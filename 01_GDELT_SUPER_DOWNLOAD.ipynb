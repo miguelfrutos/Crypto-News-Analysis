{
 "cells": [
  {
   "cell_type": "code",
   "execution_count": null,
   "id": "0022325a",
   "metadata": {},
   "outputs": [],
   "source": [
    "#!pip install gdeltdoc"
   ]
  },
  {
   "cell_type": "code",
   "execution_count": null,
   "id": "b1548b52",
   "metadata": {},
   "outputs": [],
   "source": [
    "from datetime import date, timedelta \n",
    "currenday = date.today()- timedelta(days=86)\n",
    "\n",
    "daybefore = currenday - timedelta(days=1)\n",
    "start_date = daybefore.strftime(\"%Y-%m-%d\")\n",
    "end_date = currenday.strftime(\"%Y-%m-%d\")\n",
    "start_date,end_date"
   ]
  },
  {
   "cell_type": "code",
   "execution_count": null,
   "id": "36d8a600",
   "metadata": {},
   "outputs": [],
   "source": [
    "# bitcoin%20OR%20cryptocurrency%20OR%20cryptocurrencies\n",
    "\n",
    "import pandas as pd\n",
    "\n",
    "from gdeltdoc import GdeltDoc, Filters\n",
    "\n",
    "f = Filters(\n",
    "    keyword = \"bitcoin\",\n",
    "    start_date = str(start_date),\n",
    "    end_date = str(end_date)\n",
    ")\n",
    "\n",
    "gd = GdeltDoc()\n",
    "\n",
    "# Search for articles matching the filters\n",
    "articles = gd.article_search(f)\n",
    "df = articles[(articles[\"language\"] == 'English')]\n",
    "df"
   ]
  },
  {
   "cell_type": "code",
   "execution_count": null,
   "id": "481cd5ea",
   "metadata": {},
   "outputs": [],
   "source": [
    "import time\n",
    "for i in range(100):\n",
    "    print(\"start_date, end_date = \",start_date,end_date)\n",
    "    for item in ['cryptocurrency', 'cryptocurrencies','CBDC','Bitcoin', 'Ethereum', 'Litecoin', 'BitcoinCash', 'BitcoinSV', 'Polkadot', 'Chainlink', 'BinanceCoin', 'VeChain', 'Cosmos', 'Polkadot', 'NEO', 'Tezos', 'Tether', 'USDCoin', 'Monero', 'Dash', 'Zcash', 'Ripple', 'Cardano', 'Stellar', 'CounosX']:\n",
    "        print(item)\n",
    "        try:\n",
    "            f = Filters(\n",
    "                keyword = item,\n",
    "                start_date = str(start_date),\n",
    "                end_date = str(end_date)\n",
    "            )\n",
    "\n",
    "            gd = GdeltDoc()\n",
    "            # Search for articles matching the filters\n",
    "            articles = gd.article_search(f)\n",
    "            articles = articles[(articles[\"language\"] == 'English')]\n",
    "            df = pd.concat([df, articles], axis=0)\n",
    "            df = df.drop_duplicates(subset=['url'], keep='last')\n",
    "            time.sleep(1)\n",
    "        except:\n",
    "            pass\n",
    "    currenday =  currenday - timedelta(days=1)\n",
    "    daybefore = currenday - timedelta(days=1)\n",
    "    start_date = daybefore.strftime(\"%Y-%m-%d\")\n",
    "    end_date = currenday.strftime(\"%Y-%m-%d\")\n",
    "#    start_date,end_date    \n",
    "    df.to_excel(\"01_GDELT_SUPER_DOWNLOAD.xlsx\")"
   ]
  },
  {
   "cell_type": "code",
   "execution_count": null,
   "id": "93550fb9",
   "metadata": {},
   "outputs": [],
   "source": [
    "df = df.reset_index(drop=True)"
   ]
  },
  {
   "cell_type": "code",
   "execution_count": null,
   "id": "76defd8a",
   "metadata": {},
   "outputs": [],
   "source": [
    "file_name = \"20220523_GDELT_SUPER_DOWNLOAD_WIP2.xlsx\""
   ]
  },
  {
   "cell_type": "code",
   "execution_count": null,
   "id": "9ed0ea94",
   "metadata": {},
   "outputs": [],
   "source": [
    "colsPol = ['url', 'url_mobile', 'title', 'seendate', 'socialimage','domain', 'language', 'sourcecountry']"
   ]
  },
  {
   "cell_type": "code",
   "execution_count": null,
   "id": "4333f101",
   "metadata": {},
   "outputs": [],
   "source": [
    "with pd.ExcelWriter(file_name, options={'strings_to_urls': False}) as writer:\n",
    "        df.to_excel(writer, 'Influence on Policy', columns=colsPol)"
   ]
  },
  {
   "cell_type": "code",
   "execution_count": null,
   "id": "c0680527",
   "metadata": {},
   "outputs": [],
   "source": [
    "#df.to_excel(\"01_GDELT_SUPER_DOWNLOAD.xlsx\")#,index=False)"
   ]
  },
  {
   "cell_type": "code",
   "execution_count": null,
   "id": "536f6c72",
   "metadata": {},
   "outputs": [],
   "source": [
    "#df.to_csv(\"01_GDELT_SUPER_DOWNLOAD.csv\")#"
   ]
  },
  {
   "cell_type": "code",
   "execution_count": null,
   "id": "e546f22c",
   "metadata": {},
   "outputs": [],
   "source": [
    "df.tail()"
   ]
  }
 ],
 "metadata": {
  "kernelspec": {
   "display_name": "Python 3 (ipykernel)",
   "language": "python",
   "name": "python3"
  },
  "language_info": {
   "codemirror_mode": {
    "name": "ipython",
    "version": 3
   },
   "file_extension": ".py",
   "mimetype": "text/x-python",
   "name": "python",
   "nbconvert_exporter": "python",
   "pygments_lexer": "ipython3",
   "version": "3.9.12"
  }
 },
 "nbformat": 4,
 "nbformat_minor": 5
}
