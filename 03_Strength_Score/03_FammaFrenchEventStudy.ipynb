{
 "cells": [
  {
   "cell_type": "markdown",
   "metadata": {
    "id": "jNchxS-Fplk7"
   },
   "source": [
    "# Required Packages"
   ]
  },
  {
   "cell_type": "code",
   "execution_count": 142,
   "metadata": {
    "colab": {
     "base_uri": "https://localhost:8080/"
    },
    "id": "ElvEBif1oNFS",
    "outputId": "8e1e055a-9761-41b5-8f9e-87db195f6a5e"
   },
   "outputs": [],
   "source": [
    "# pip install getFamaFrenchFactors"
   ]
  },
  {
   "cell_type": "code",
   "execution_count": 143,
   "metadata": {
    "colab": {
     "base_uri": "https://localhost:8080/"
    },
    "id": "JR2r5w3aoddy",
    "outputId": "77544c72-5d0f-4ffc-ddd8-2bb517aa9ae3"
   },
   "outputs": [],
   "source": [
    "# pip install yfinance"
   ]
  },
  {
   "cell_type": "code",
   "execution_count": 144,
   "metadata": {
    "colab": {
     "base_uri": "https://localhost:8080/"
    },
    "id": "QIdBMx70pQ_E",
    "outputId": "0ec2de9e-eaa4-4522-ba90-3f7d8ca261c1"
   },
   "outputs": [],
   "source": [
    "# pip install eventstudy"
   ]
  },
  {
   "cell_type": "code",
   "execution_count": 145,
   "metadata": {},
   "outputs": [],
   "source": [
    "# pip install tensorflow"
   ]
  },
  {
   "cell_type": "code",
   "execution_count": 146,
   "metadata": {
    "colab": {
     "base_uri": "https://localhost:8080/"
    },
    "id": "a1HFssSDqitl",
    "outputId": "bd464843-d59e-419b-900c-1d77fa3e63f6"
   },
   "outputs": [],
   "source": [
    "# pip install --force-reinstall transformers"
   ]
  },
  {
   "cell_type": "markdown",
   "metadata": {
    "id": "PBuW1gbFoUTx"
   },
   "source": [
    "# 3000 News from Professor"
   ]
  },
  {
   "cell_type": "code",
   "execution_count": 1,
   "metadata": {
    "id": "uQPUYyh1pxiG"
   },
   "outputs": [
    {
     "name": "stderr",
     "output_type": "stream",
     "text": [
      "/Users/niko/.pyenv/versions/3.9.7/lib/python3.9/site-packages/scipy/__init__.py:146: UserWarning: A NumPy version >=1.16.5 and <1.23.0 is required for this version of SciPy (detected version 1.23.0\n",
      "  warnings.warn(f\"A NumPy version >={np_minversion} and <{np_maxversion}\"\n"
     ]
    }
   ],
   "source": [
    "import pandas as pd\n",
    "import numpy as np\n",
    "import pandas_datareader.data as pdr\n",
    "import datetime as dt\n",
    "import yfinance as yf\n",
    "import statsmodels.api as sm\n",
    "import getFamaFrenchFactors as gff"
   ]
  },
  {
   "cell_type": "code",
   "execution_count": 2,
   "metadata": {
    "colab": {
     "base_uri": "https://localhost:8080/",
     "height": 74,
     "resources": {
      "http://localhost:8080/nbextensions/google.colab/files.js": {
       "data": "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",
       "headers": [
        [
         "content-type",
         "application/javascript"
        ]
       ],
       "ok": true,
       "status": 200,
       "status_text": ""
      }
     }
    },
    "id": "D-A128BUqTPA",
    "outputId": "0b254dc0-4e84-4099-dcbb-b39c84bad943"
   },
   "outputs": [],
   "source": [
    "#from google.colab import files\n",
    " \n",
    "#Upload here the News3k.csv\n",
    "\n",
    "#uploaded = files.upload()"
   ]
  },
  {
   "cell_type": "code",
   "execution_count": 5,
   "metadata": {
    "colab": {
     "base_uri": "https://localhost:8080/",
     "height": 513
    },
    "id": "6iDSLLsWplk7",
    "outputId": "35e8ad87-54b0-4647-e71d-d7d84f97945e"
   },
   "outputs": [
    {
     "name": "stderr",
     "output_type": "stream",
     "text": [
      "/var/folders/m4/xkrhq1cj3gq0qvjhg5y8bh480000gq/T/ipykernel_55601/1443087665.py:2: FutureWarning: Passing a negative integer is deprecated in version 1.0 and will not be supported in future version. Instead, use None to not limit the column width.\n",
      "  pd.set_option('display.max_colwidth', -1)\n"
     ]
    }
   ],
   "source": [
    "news3k = pd.read_csv(\"CryptoLin.csv\", encoding= 'unicode_escape')\n",
    "pd.set_option('display.max_colwidth', -1)\n",
    "# news3k.head()"
   ]
  },
  {
   "cell_type": "code",
   "execution_count": 9,
   "metadata": {},
   "outputs": [],
   "source": [
    "# news3k"
   ]
  },
  {
   "cell_type": "code",
   "execution_count": 10,
   "metadata": {
    "id": "b_5F9zDctk3h"
   },
   "outputs": [],
   "source": [
    "news3k[\"date_parsed\"]=pd.to_datetime(news3k[\"date\"])"
   ]
  },
  {
   "cell_type": "code",
   "execution_count": 11,
   "metadata": {
    "colab": {
     "base_uri": "https://localhost:8080/"
    },
    "id": "AcjPMypTt6KZ",
    "outputId": "f3b4d18d-cc08-4843-8ef2-4b8cbfd75817"
   },
   "outputs": [],
   "source": [
    "# news3k.dtypes"
   ]
  },
  {
   "cell_type": "markdown",
   "metadata": {
    "id": "0R2FRsHwplk7"
   },
   "source": [
    "467 news out of the 3000 are from 2022"
   ]
  },
  {
   "cell_type": "markdown",
   "metadata": {
    "id": "0_lZQY7splk8"
   },
   "source": [
    "---\n",
    "# Fama French Three Factor\n",
    "<p>&nbsp;</p>\n",
    "https://medium.com/the-handbook-of-coding-in-finance/estimating-stock-returns-with-fama-french-three-factor-model-in-python-1a98e3936859\n",
    "<p>&nbsp;</p>\n",
    "https://github.com/teobeeguan/Python-For-Finance/blob/main/Portfolio%20Management/Fama_French_Three_Factor.py\n"
   ]
  },
  {
   "cell_type": "code",
   "execution_count": 39,
   "metadata": {
    "colab": {
     "base_uri": "https://localhost:8080/"
    },
    "id": "kGGujny1plk8",
    "outputId": "4053e25c-ca3a-4913-a15d-3ebff1d82518"
   },
   "outputs": [
    {
     "data": {
      "text/plain": [
       "Timestamp('2018-07-30 00:00:00')"
      ]
     },
     "execution_count": 39,
     "metadata": {},
     "output_type": "execute_result"
    }
   ],
   "source": [
    "news3k[\"date_parsed\"].min()"
   ]
  },
  {
   "cell_type": "code",
   "execution_count": 13,
   "metadata": {
    "id": "1M7OCpB4plk8"
   },
   "outputs": [],
   "source": [
    "ticker = \"BTC-USD\" # add here the place holder for the stock input of the user\n",
    "start = \"2014-12-01\"\n",
    "end = \"2022-02-01\""
   ]
  },
  {
   "cell_type": "code",
   "execution_count": 14,
   "metadata": {
    "colab": {
     "base_uri": "https://localhost:8080/"
    },
    "id": "EBI6ST4yplk9",
    "outputId": "72bab418-5e7a-4b39-d05b-df4f0b337180"
   },
   "outputs": [
    {
     "name": "stdout",
     "output_type": "stream",
     "text": [
      "[*********************100%***********************]  1 of 1 completed\n"
     ]
    }
   ],
   "source": [
    "stock_data = yf.download(ticker, start, end, adjusted=True)\n",
    "ff3_monthly = gff.famaFrench3Factor(frequency='m')\n",
    "ff3_monthly.rename(columns={\"date_ff_factors\": 'Date'}, inplace=True)\n",
    "ff3_monthly.set_index('Date', inplace=True)"
   ]
  },
  {
   "cell_type": "code",
   "execution_count": 15,
   "metadata": {
    "colab": {
     "base_uri": "https://localhost:8080/",
     "height": 238
    },
    "id": "BU1TaDWcplk9",
    "outputId": "18dd92a6-3869-4d6d-de8b-7a79d3eeb66e"
   },
   "outputs": [],
   "source": [
    "# stock_data.head()"
   ]
  },
  {
   "cell_type": "code",
   "execution_count": 147,
   "metadata": {
    "colab": {
     "base_uri": "https://localhost:8080/",
     "height": 455
    },
    "id": "uOGJu1OXplk9",
    "outputId": "ae4bc86c-69f2-4a54-c7de-314a52429342"
   },
   "outputs": [],
   "source": [
    "# ff3_monthly"
   ]
  },
  {
   "cell_type": "markdown",
   "metadata": {
    "id": "33_lYOXDpFz_"
   },
   "source": [
    "### Expected Monthly Return"
   ]
  },
  {
   "cell_type": "code",
   "execution_count": 17,
   "metadata": {
    "id": "bfBXY8hcplk9"
   },
   "outputs": [],
   "source": [
    "stock_returns = stock_data['Adj Close'].resample('M').last().pct_change().dropna()\n",
    "stock_returns.name = \"Month_Rtn\"\n",
    "ff_data = ff3_monthly.merge(stock_returns,on='Date')"
   ]
  },
  {
   "cell_type": "code",
   "execution_count": 18,
   "metadata": {
    "colab": {
     "base_uri": "https://localhost:8080/"
    },
    "id": "zFy8xEotplk9",
    "outputId": "e5b5d07b-f3b2-463c-a6f2-83372bd78cbf"
   },
   "outputs": [],
   "source": [
    "X = ff_data[['Mkt-RF', 'SMB', 'HML']]\n",
    "y = ff_data['Month_Rtn'] - ff_data['RF']\n",
    "X = sm.add_constant(X)\n",
    "ff_model = sm.OLS(y, X).fit()\n",
    "# print(ff_model.summary())\n",
    "intercept, b1, b2, b3 = ff_model.params"
   ]
  },
  {
   "cell_type": "code",
   "execution_count": 19,
   "metadata": {
    "colab": {
     "base_uri": "https://localhost:8080/"
    },
    "id": "qgaHvZ7gplk-",
    "outputId": "571ffa70-f1ae-4105-ea27-9ee48ac2944e"
   },
   "outputs": [],
   "source": [
    "rf = ff_data['RF'].mean()\n",
    "market_premium = ff3_monthly['Mkt-RF'].mean()\n",
    "size_premium = ff3_monthly['SMB'].mean()\n",
    "value_premium = ff3_monthly['HML'].mean()\n",
    "\n",
    "expected_monthly_return = rf + b1 * market_premium + b2 * size_premium + b3 * value_premium \n",
    "expected_yearly_return = expected_monthly_return * 12"
   ]
  },
  {
   "cell_type": "markdown",
   "metadata": {
    "id": "je2oJMi6plk-"
   },
   "source": [
    "### Expected Daily Return"
   ]
  },
  {
   "cell_type": "code",
   "execution_count": 20,
   "metadata": {
    "colab": {
     "base_uri": "https://localhost:8080/"
    },
    "id": "NLhk0Ct1plk-",
    "outputId": "7f6dc45b-e700-4b2e-8987-c02544343191"
   },
   "outputs": [
    {
     "name": "stdout",
     "output_type": "stream",
     "text": [
      "[*********************100%***********************]  1 of 1 completed\n"
     ]
    }
   ],
   "source": [
    "\"\"\"\n",
    "Created on Tue Aug 31 15:11:15 2021\n",
    "@author: Teo Bee Guan\n",
    "\"\"\"\n",
    "stock_data = yf.download(ticker, start, end, adjusted=True)"
   ]
  },
  {
   "cell_type": "raw",
   "metadata": {
    "id": "Mar5tw56plk-"
   },
   "source": [
    "stock_returns = stock_data['Adj Close'].resample('d').last().pct_change().dropna()"
   ]
  },
  {
   "cell_type": "code",
   "execution_count": 35,
   "metadata": {
    "id": "l9rMAlpuplk-"
   },
   "outputs": [],
   "source": [
    "stock_returns.name = \"Day_Rtn\""
   ]
  },
  {
   "cell_type": "code",
   "execution_count": 22,
   "metadata": {
    "colab": {
     "base_uri": "https://localhost:8080/",
     "height": 74,
     "resources": {
      "http://localhost:8080/nbextensions/google.colab/files.js": {
       "data": "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",
       "headers": [
        [
         "content-type",
         "application/javascript"
        ]
       ],
       "ok": true,
       "status": 200,
       "status_text": ""
      }
     }
    },
    "id": "6bHD9Tw7q25l",
    "outputId": "2ce7134e-335d-4429-d9e1-68b54e0fae9a"
   },
   "outputs": [],
   "source": [
    "#from google.colab import files\n",
    "\n",
    "#Upload FF3_daily.csv\n",
    "\n",
    "#uploaded = files.upload()"
   ]
  },
  {
   "cell_type": "code",
   "execution_count": 23,
   "metadata": {
    "id": "ZligV635plk-"
   },
   "outputs": [],
   "source": [
    "ff3_daily=pd.read_csv(\"FF3_daily.csv\",parse_dates=['date'])\n",
    "ff3_daily.rename(columns={\"date\": 'Date'}, inplace=True)\n",
    "ff3_daily.set_index('Date', inplace=True)"
   ]
  },
  {
   "cell_type": "code",
   "execution_count": 24,
   "metadata": {
    "id": "Xp9tNMMfplk-"
   },
   "outputs": [],
   "source": [
    "ff_data = ff3_daily.merge(stock_returns,on='Date')"
   ]
  },
  {
   "cell_type": "code",
   "execution_count": 25,
   "metadata": {
    "colab": {
     "base_uri": "https://localhost:8080/"
    },
    "id": "CImRIs77plk_",
    "outputId": "3e8c9488-cc38-431f-bb88-1b50c1fe98f6"
   },
   "outputs": [],
   "source": [
    "X = ff_data[['Mkt-RF', 'SMB', 'HML']]\n",
    "y = ff_data['Day_Rtn'] - ff_data['RF']\n",
    "X = sm.add_constant(X)\n",
    "ff_model = sm.OLS(y, X).fit()\n",
    "# print(ff_model.summary())\n",
    "intercept, b1, b2, b3 = ff_model.params"
   ]
  },
  {
   "cell_type": "code",
   "execution_count": 26,
   "metadata": {
    "colab": {
     "base_uri": "https://localhost:8080/"
    },
    "id": "AcQM5Q-2plk_",
    "outputId": "d5810f8b-8294-44fb-9d33-5dd4e5408589"
   },
   "outputs": [
    {
     "name": "stdout",
     "output_type": "stream",
     "text": [
      "Expected return for: BTC-USD\n",
      "Daily return: 0.219%\n",
      "Monthly return: 1.004%\n",
      "Yearly return: 12.046%\n"
     ]
    }
   ],
   "source": [
    "rf = ff_data['RF'].mean()\n",
    "market_premium = ff3_daily['Mkt-RF'].mean()\n",
    "size_premium = ff3_daily['SMB'].mean()\n",
    "value_premium = ff3_daily['HML'].mean()\n",
    "\n",
    "expected_daily_return = rf + b1 * market_premium + b2 * size_premium + b3 * value_premium \n",
    "\n",
    "print(\"Expected return for:\",ticker)\n",
    "print(\"Daily return: \" + str(round(expected_daily_return,5)*100)+'%')\n",
    "print(\"Monthly return: \" + str(round(expected_monthly_return,5)*100)+'%')\n",
    "print(\"Yearly return: \" + str(round(expected_yearly_return,5)*100)+'%')"
   ]
  },
  {
   "cell_type": "markdown",
   "metadata": {
    "id": "pDdvMkkBplk_"
   },
   "source": [
    "# Event Study"
   ]
  },
  {
   "cell_type": "markdown",
   "metadata": {
    "id": "aakAYl4Gplk_"
   },
   "source": [
    "ff3_dailay source: https://mba.tuck.dartmouth.edu/pages/faculty/ken.french/data_library.html"
   ]
  },
  {
   "cell_type": "code",
   "execution_count": 27,
   "metadata": {
    "colab": {
     "base_uri": "https://localhost:8080/",
     "height": 206
    },
    "id": "O2yYfyovshD4",
    "outputId": "5f4bd624-5468-4d41-d617-2c0dca415b1e"
   },
   "outputs": [
    {
     "data": {
      "text/html": [
       "<div>\n",
       "<style scoped>\n",
       "    .dataframe tbody tr th:only-of-type {\n",
       "        vertical-align: middle;\n",
       "    }\n",
       "\n",
       "    .dataframe tbody tr th {\n",
       "        vertical-align: top;\n",
       "    }\n",
       "\n",
       "    .dataframe thead th {\n",
       "        text-align: right;\n",
       "    }\n",
       "</style>\n",
       "<table border=\"1\" class=\"dataframe\">\n",
       "  <thead>\n",
       "    <tr style=\"text-align: right;\">\n",
       "      <th></th>\n",
       "      <th>date</th>\n",
       "      <th>Mkt-RF</th>\n",
       "      <th>SMB</th>\n",
       "      <th>HML</th>\n",
       "      <th>RF</th>\n",
       "    </tr>\n",
       "  </thead>\n",
       "  <tbody>\n",
       "    <tr>\n",
       "      <th>25143</th>\n",
       "      <td>20211227</td>\n",
       "      <td>1.22</td>\n",
       "      <td>-0.09</td>\n",
       "      <td>0.28</td>\n",
       "      <td>0.0</td>\n",
       "    </tr>\n",
       "    <tr>\n",
       "      <th>25144</th>\n",
       "      <td>20211228</td>\n",
       "      <td>-0.27</td>\n",
       "      <td>-0.59</td>\n",
       "      <td>0.80</td>\n",
       "      <td>0.0</td>\n",
       "    </tr>\n",
       "    <tr>\n",
       "      <th>25145</th>\n",
       "      <td>20211229</td>\n",
       "      <td>0.06</td>\n",
       "      <td>-0.06</td>\n",
       "      <td>0.15</td>\n",
       "      <td>0.0</td>\n",
       "    </tr>\n",
       "    <tr>\n",
       "      <th>25146</th>\n",
       "      <td>20211230</td>\n",
       "      <td>-0.15</td>\n",
       "      <td>0.10</td>\n",
       "      <td>-0.38</td>\n",
       "      <td>0.0</td>\n",
       "    </tr>\n",
       "    <tr>\n",
       "      <th>25147</th>\n",
       "      <td>20211231</td>\n",
       "      <td>-0.31</td>\n",
       "      <td>0.06</td>\n",
       "      <td>0.53</td>\n",
       "      <td>0.0</td>\n",
       "    </tr>\n",
       "  </tbody>\n",
       "</table>\n",
       "</div>"
      ],
      "text/plain": [
       "           date  Mkt-RF   SMB   HML   RF\n",
       "25143  20211227  1.22   -0.09  0.28  0.0\n",
       "25144  20211228 -0.27   -0.59  0.80  0.0\n",
       "25145  20211229  0.06   -0.06  0.15  0.0\n",
       "25146  20211230 -0.15    0.10 -0.38  0.0\n",
       "25147  20211231 -0.31    0.06  0.53  0.0"
      ]
     },
     "execution_count": 27,
     "metadata": {},
     "output_type": "execute_result"
    }
   ],
   "source": [
    "ff3_daily=pd.read_csv(\"FF3_daily.csv\")\n",
    "ff3_daily.tail()"
   ]
  },
  {
   "cell_type": "code",
   "execution_count": 36,
   "metadata": {
    "colab": {
     "base_uri": "https://localhost:8080/",
     "height": 300
    },
    "id": "c3jTk7Ngplk_",
    "outputId": "08121238-f892-4fee-c431-0f72c20fbe56"
   },
   "outputs": [
    {
     "name": "stdout",
     "output_type": "stream",
     "text": [
      "[*********************100%***********************]  1 of 1 completed\n"
     ]
    }
   ],
   "source": [
    "import pandas\n",
    "from pandas_datareader import data as pdr\n",
    "import yfinance as yfin\n",
    "yfin.pdr_override()\n",
    "\n",
    "# stock_data = pdr.get_data_yahoo(ticker, start, end)\n",
    "\n",
    "import statsmodels.api as sm\n",
    "import getFamaFrenchFactors as gff\n",
    "\n",
    "stock_data = yf.download(ticker, start, end, adjusted=True)\n",
    "\n",
    "'''muting this code from professor\n",
    "\n",
    "ff3_monthly = gff.famaFrench3Factor(frequency='m')\n",
    "ff3_monthly.rename(columns={\"date_ff_factors\": 'date'}, inplace=True)\n",
    "'''\n",
    "#ff3_monthly.set_index('date', inplace=True)\n",
    "\n",
    "\n",
    "## Renaming columns and formating data to later use by es.Single.import_FamaFrench\n",
    "\n",
    "#ff3_monthly.reset_index(level=0, inplace=True)\n",
    "#ff3_monthly.columns = ['date', 'Mkt-RF', 'SMB', 'HML', 'RF']\n",
    "#ff3_monthly.to_csv(\"test_datetime_format.csv\", index=False, date_format='%Y%m%d')\n",
    "\n",
    "'''muting this code from professor\n",
    "\n",
    "ff3_monthly.to_csv(\"{}_famafrench.csv\".format(ticker), index=False, date_format='%Y%m%d')\n",
    "'''\n",
    "ff3_daily.to_csv(\"{}_famafrench.csv\".format(ticker), index=False, date_format='%Y%m%d')\n",
    "\n",
    "\n",
    "\n",
    "## Renaming columns and formating data to later use by es.Single.import_FamaFrench\n",
    "\n",
    "#stock_data = pdr.get_data_yahoo(ticker, start=\"2017-12-01\", end=\"2022-02-01\")\n",
    "\n",
    "stock_data[ticker] = stock_data[\"Adj Close\"].pct_change()\n",
    "stock_data = stock_data.dropna()\n",
    "stock_data.reset_index(level=0, inplace=True)\n",
    "stock_data = stock_data[['Date',ticker]].copy()\n",
    "stock_data.columns = ['date',ticker]\n",
    "stock_data.to_csv(\"{}_returns.csv\".format(ticker), index=False, date_format='%Y-%m-%d')\n",
    "\n",
    "\n",
    "## Importing Fama French 3 Factors and Stock Return\n",
    "\n",
    "import eventstudy as es\n",
    "# print(es.__version__)\n",
    "from eventstudy import excelExporter\n",
    "\n",
    "import numpy as np\n",
    "import matplotlib.pyplot as plt\n",
    "\n",
    "\n",
    "es.Single.import_FamaFrench(\"{}_famafrench.csv\".format(ticker))\n",
    "es.Single.import_returns(\"{}_returns.csv\".format(ticker))\n",
    "\n",
    "event = es.Single.FamaFrench_3factor(\n",
    "    security_ticker = ticker,\n",
    "    event_date = np.datetime64('2020-12-28'),\n",
    "    event_window = (-2,+4), \n",
    "    estimation_size = 100,\n",
    "    buffer_size = 30\n",
    ")\n",
    "\n",
    "# event.plot(AR=True)\n",
    "# plt.show()"
   ]
  },
  {
   "cell_type": "code",
   "execution_count": 37,
   "metadata": {
    "colab": {
     "base_uri": "https://localhost:8080/"
    },
    "id": "Z_sd6tkTpllA",
    "outputId": "1e7192c0-486b-4e7d-8c27-7b5bf08cb4d2"
   },
   "outputs": [
    {
     "data": {
      "text/plain": [
       "array([ 0.06980493, -0.0118392 ,  0.02529761,  0.00250216,  0.05144785,\n",
       "       -0.00028216,  0.00835475])"
      ]
     },
     "execution_count": 37,
     "metadata": {},
     "output_type": "execute_result"
    }
   ],
   "source": [
    "event.AR"
   ]
  },
  {
   "cell_type": "code",
   "execution_count": 38,
   "metadata": {
    "colab": {
     "base_uri": "https://localhost:8080/"
    },
    "id": "ssT9p_JlpllA",
    "outputId": "f54584e9-5f9e-4dca-f02c-fe1e414bc361"
   },
   "outputs": [
    {
     "data": {
      "text/plain": [
       "array([0.06980493, 0.05796573, 0.08326334, 0.0857655 , 0.13721335,\n",
       "       0.13693119, 0.14528594])"
      ]
     },
     "execution_count": 38,
     "metadata": {},
     "output_type": "execute_result"
    }
   ],
   "source": [
    "event.CAR"
   ]
  },
  {
   "cell_type": "code",
   "execution_count": 40,
   "metadata": {
    "colab": {
     "base_uri": "https://localhost:8080/"
    },
    "id": "YfhgwH1gpllA",
    "outputId": "cec30a5d-630f-4952-af03-8961e0a0c738"
   },
   "outputs": [
    {
     "data": {
      "text/plain": [
       "398"
      ]
     },
     "execution_count": 40,
     "metadata": {},
     "output_type": "execute_result"
    }
   ],
   "source": [
    "news3k[\"date_parsed\"].nunique()"
   ]
  },
  {
   "cell_type": "code",
   "execution_count": 41,
   "metadata": {
    "colab": {
     "base_uri": "https://localhost:8080/",
     "height": 269
    },
    "id": "A6PP70I4pllA",
    "outputId": "feb9b70f-2b51-4ad8-f1bd-4e2d32d91d05"
   },
   "outputs": [
    {
     "data": {
      "text/html": [
       "<div>\n",
       "<style scoped>\n",
       "    .dataframe tbody tr th:only-of-type {\n",
       "        vertical-align: middle;\n",
       "    }\n",
       "\n",
       "    .dataframe tbody tr th {\n",
       "        vertical-align: top;\n",
       "    }\n",
       "\n",
       "    .dataframe thead th {\n",
       "        text-align: right;\n",
       "    }\n",
       "</style>\n",
       "<table border=\"1\" class=\"dataframe\">\n",
       "  <thead>\n",
       "    <tr style=\"text-align: right;\">\n",
       "      <th></th>\n",
       "      <th>AR</th>\n",
       "      <th>Std. E. AR</th>\n",
       "      <th>CAR</th>\n",
       "      <th>Std. E. CAR</th>\n",
       "      <th>T-stat</th>\n",
       "      <th>P-value</th>\n",
       "    </tr>\n",
       "  </thead>\n",
       "  <tbody>\n",
       "    <tr>\n",
       "      <th>-2</th>\n",
       "      <td>0.070</td>\n",
       "      <td>0.02565</td>\n",
       "      <td>0.07 **</td>\n",
       "      <td>0.02565</td>\n",
       "      <td>2.72</td>\n",
       "      <td>0.01</td>\n",
       "    </tr>\n",
       "    <tr>\n",
       "      <th>-1</th>\n",
       "      <td>-0.012</td>\n",
       "      <td>0.02565</td>\n",
       "      <td>0.058</td>\n",
       "      <td>0.03628</td>\n",
       "      <td>1.60</td>\n",
       "      <td>0.11</td>\n",
       "    </tr>\n",
       "    <tr>\n",
       "      <th>0</th>\n",
       "      <td>0.025</td>\n",
       "      <td>0.02565</td>\n",
       "      <td>0.083 *</td>\n",
       "      <td>0.04443</td>\n",
       "      <td>1.87</td>\n",
       "      <td>0.06</td>\n",
       "    </tr>\n",
       "    <tr>\n",
       "      <th>1</th>\n",
       "      <td>0.003</td>\n",
       "      <td>0.02565</td>\n",
       "      <td>0.086</td>\n",
       "      <td>0.05131</td>\n",
       "      <td>1.67</td>\n",
       "      <td>0.10</td>\n",
       "    </tr>\n",
       "    <tr>\n",
       "      <th>2</th>\n",
       "      <td>0.051</td>\n",
       "      <td>0.02565</td>\n",
       "      <td>0.137 **</td>\n",
       "      <td>0.05736</td>\n",
       "      <td>2.39</td>\n",
       "      <td>0.02</td>\n",
       "    </tr>\n",
       "    <tr>\n",
       "      <th>3</th>\n",
       "      <td>-0.000</td>\n",
       "      <td>0.02565</td>\n",
       "      <td>0.137 **</td>\n",
       "      <td>0.06284</td>\n",
       "      <td>2.18</td>\n",
       "      <td>0.03</td>\n",
       "    </tr>\n",
       "    <tr>\n",
       "      <th>4</th>\n",
       "      <td>0.008</td>\n",
       "      <td>0.02565</td>\n",
       "      <td>0.145 **</td>\n",
       "      <td>0.06787</td>\n",
       "      <td>2.14</td>\n",
       "      <td>0.03</td>\n",
       "    </tr>\n",
       "  </tbody>\n",
       "</table>\n",
       "</div>"
      ],
      "text/plain": [
       "       AR  Std. E. AR       CAR  Std. E. CAR  T-stat  P-value\n",
       "-2  0.070  0.02565     0.07 **   0.02565      2.72    0.01   \n",
       "-1 -0.012  0.02565     0.058     0.03628      1.60    0.11   \n",
       "0   0.025  0.02565     0.083 *   0.04443      1.87    0.06   \n",
       "1   0.003  0.02565     0.086     0.05131      1.67    0.10   \n",
       "2   0.051  0.02565     0.137 **  0.05736      2.39    0.02   \n",
       "3  -0.000  0.02565     0.137 **  0.06284      2.18    0.03   \n",
       "4   0.008  0.02565     0.145 **  0.06787      2.14    0.03   "
      ]
     },
     "execution_count": 41,
     "metadata": {},
     "output_type": "execute_result"
    }
   ],
   "source": [
    "event.results(decimals=[3,5,3,5,2,2])"
   ]
  },
  {
   "cell_type": "markdown",
   "metadata": {
    "id": "CjAdF8UcpllA"
   },
   "source": [
    "---\n",
    "### Loop on dates for event study"
   ]
  },
  {
   "cell_type": "code",
   "execution_count": 42,
   "metadata": {
    "colab": {
     "base_uri": "https://localhost:8080/"
    },
    "id": "4QDlXayNsvT2",
    "outputId": "545fbdf1-ea62-4465-8b31-84f0065f01ca"
   },
   "outputs": [
    {
     "data": {
      "text/plain": [
       "0      2022-01-25\n",
       "12     2022-01-24\n",
       "21     2022-01-23\n",
       "25     2022-01-22\n",
       "29     2022-01-21\n",
       "          ...    \n",
       "2677   2020-05-05\n",
       "2678   2020-05-01\n",
       "2679   2020-04-18\n",
       "2680   2020-04-10\n",
       "2681   2018-07-30\n",
       "Name: date_parsed, Length: 398, dtype: datetime64[ns]"
      ]
     },
     "execution_count": 42,
     "metadata": {},
     "output_type": "execute_result"
    }
   ],
   "source": [
    "news3k[\"date_parsed\"].drop_duplicates()"
   ]
  },
  {
   "cell_type": "code",
   "execution_count": 43,
   "metadata": {
    "colab": {
     "base_uri": "https://localhost:8080/"
    },
    "id": "getZ0z5OpllB",
    "outputId": "6515c5e8-1c17-4176-b773-0922f18b839c"
   },
   "outputs": [
    {
     "data": {
      "text/plain": [
       "398"
      ]
     },
     "execution_count": 43,
     "metadata": {},
     "output_type": "execute_result"
    }
   ],
   "source": [
    "dates_for_eventstudy = news3k[\"date_parsed\"].drop_duplicates().sort_values()\n",
    "dates_for_eventstudy.count()"
   ]
  },
  {
   "cell_type": "code",
   "execution_count": 44,
   "metadata": {
    "colab": {
     "base_uri": "https://localhost:8080/"
    },
    "id": "nJh-hNZ_pllB",
    "outputId": "0d055ae3-1a2d-417f-dae1-5d55ab73eba6"
   },
   "outputs": [
    {
     "data": {
      "text/plain": [
       "Timestamp('2018-07-30 00:00:00')"
      ]
     },
     "execution_count": 44,
     "metadata": {},
     "output_type": "execute_result"
    }
   ],
   "source": [
    "# dates_for_eventstudy.min()\n",
    "# Timestamp('2018-07-30 00:00:00')\n"
   ]
  },
  {
   "cell_type": "code",
   "execution_count": 45,
   "metadata": {
    "colab": {
     "base_uri": "https://localhost:8080/"
    },
    "id": "GofQPkN4pllB",
    "outputId": "e63eacdb-5a19-4b3c-c3ec-da702e4bf2b8"
   },
   "outputs": [
    {
     "data": {
      "text/plain": [
       "Timestamp('2022-01-25 00:00:00')"
      ]
     },
     "execution_count": 45,
     "metadata": {},
     "output_type": "execute_result"
    }
   ],
   "source": [
    "# dates_for_eventstudy.max()\n",
    "# Timestamp('2022-01-25 00:00:00')\n"
   ]
  },
  {
   "cell_type": "code",
   "execution_count": 46,
   "metadata": {
    "id": "CYe4-_A0pllB"
   },
   "outputs": [],
   "source": [
    "i = 1\n",
    "listAR=[]\n",
    "dates=[]\n",
    "for date in dates_for_eventstudy:\n",
    "    #print(date)\n",
    "    try:\n",
    "        event = es.Single.FamaFrench_3factor(\n",
    "            security_ticker = ticker,\n",
    "            event_date = np.datetime64(date),\n",
    "            event_window = (-2,+4), \n",
    "            estimation_size = 100,\n",
    "            buffer_size = 30\n",
    "        )\n",
    "\n",
    "        #event.plot(AR=True)\n",
    "        #plt.show()\n",
    "        listAR.append(event.AR)\n",
    "        dates.append(date)\n",
    "        \n",
    "    except:\n",
    "        #print(\"Date error\")\n",
    "        list_nans = []\n",
    "        for nans in range(event.event_window_size):\n",
    "            list_nans.append(np.nan)\n",
    "        listAR.append(list_nans)\n",
    "        dates.append(date)\n",
    "        \n",
    "    #df_test = pd.DataFrame({'date':dates_for_eventstudy, 'value':list1})\n",
    "    \n",
    "\n",
    "  #  if i == 4:\n",
    "  #      break\n",
    "    \n",
    "  #  i += 1\n",
    "\n",
    "columns_ar=[]\n",
    "for i in range(event.event_window[0],event.event_window[1]+1):\n",
    "    columns_ar.append(\"AR\"+str(i))\n",
    "\n",
    "df_AR = pd.DataFrame(listAR, columns=columns_ar)\n",
    "df_test2 = pd.DataFrame({'date':dates}).join(df_AR)"
   ]
  },
  {
   "cell_type": "code",
   "execution_count": 148,
   "metadata": {
    "colab": {
     "base_uri": "https://localhost:8080/",
     "height": 423
    },
    "id": "bbdg9QGRpllB",
    "outputId": "dd72764c-4abf-4f0c-b1e5-95908379ed3b"
   },
   "outputs": [],
   "source": [
    "# df_test2"
   ]
  },
  {
   "cell_type": "code",
   "execution_count": 149,
   "metadata": {
    "colab": {
     "base_uri": "https://localhost:8080/",
     "height": 528
    },
    "id": "inelxU9_pllB",
    "outputId": "8f94353f-f28e-4b40-cb6f-eb87745ec7c2"
   },
   "outputs": [
    {
     "name": "stderr",
     "output_type": "stream",
     "text": [
      "/var/folders/m4/xkrhq1cj3gq0qvjhg5y8bh480000gq/T/ipykernel_55601/409418028.py:2: SettingWithCopyWarning: \n",
      "A value is trying to be set on a copy of a slice from a DataFrame.\n",
      "Try using .loc[row_indexer,col_indexer] = value instead\n",
      "\n",
      "See the caveats in the documentation: https://pandas.pydata.org/pandas-docs/stable/user_guide/indexing.html#returning-a-view-versus-a-copy\n",
      "  df_test3[\"date\"] = pd.to_datetime(df_test3[\"date\"])\n"
     ]
    }
   ],
   "source": [
    "df_test3 = df_test2.dropna()\n",
    "df_test3[\"date\"] = pd.to_datetime(df_test3[\"date\"])\n",
    "# df_test3"
   ]
  },
  {
   "cell_type": "code",
   "execution_count": 49,
   "metadata": {
    "colab": {
     "base_uri": "https://localhost:8080/",
     "height": 414
    },
    "id": "jqafCGV4pllC",
    "outputId": "e99c9085-9464-41d9-f7bb-e36a0f6a9bae"
   },
   "outputs": [
    {
     "name": "stderr",
     "output_type": "stream",
     "text": [
      "/var/folders/m4/xkrhq1cj3gq0qvjhg5y8bh480000gq/T/ipykernel_55601/4263963401.py:8: SettingWithCopyWarning: \n",
      "A value is trying to be set on a copy of a slice from a DataFrame.\n",
      "Try using .loc[row_indexer,col_indexer] = value instead\n",
      "\n",
      "See the caveats in the documentation: https://pandas.pydata.org/pandas-docs/stable/user_guide/indexing.html#returning-a-view-versus-a-copy\n",
      "  df_test3[\"Relevant_pos\"] = relevant_matrix_pos[list(relevant_matrix_pos.columns)].any(axis=1).astype(int)\n",
      "/var/folders/m4/xkrhq1cj3gq0qvjhg5y8bh480000gq/T/ipykernel_55601/4263963401.py:9: SettingWithCopyWarning: \n",
      "A value is trying to be set on a copy of a slice from a DataFrame.\n",
      "Try using .loc[row_indexer,col_indexer] = value instead\n",
      "\n",
      "See the caveats in the documentation: https://pandas.pydata.org/pandas-docs/stable/user_guide/indexing.html#returning-a-view-versus-a-copy\n",
      "  df_test3[\"Relevant_neg\"] = -1*(relevant_matrix_neg[list(relevant_matrix_neg.columns)].any(axis=1).astype(int))\n"
     ]
    },
    {
     "data": {
      "text/html": [
       "<div>\n",
       "<style scoped>\n",
       "    .dataframe tbody tr th:only-of-type {\n",
       "        vertical-align: middle;\n",
       "    }\n",
       "\n",
       "    .dataframe tbody tr th {\n",
       "        vertical-align: top;\n",
       "    }\n",
       "\n",
       "    .dataframe thead th {\n",
       "        text-align: right;\n",
       "    }\n",
       "</style>\n",
       "<table border=\"1\" class=\"dataframe\">\n",
       "  <thead>\n",
       "    <tr style=\"text-align: right;\">\n",
       "      <th></th>\n",
       "      <th>date</th>\n",
       "      <th>AR-2</th>\n",
       "      <th>AR-1</th>\n",
       "      <th>AR0</th>\n",
       "      <th>AR1</th>\n",
       "      <th>AR2</th>\n",
       "      <th>AR3</th>\n",
       "      <th>AR4</th>\n",
       "      <th>Relevant_pos</th>\n",
       "      <th>Relevant_neg</th>\n",
       "    </tr>\n",
       "  </thead>\n",
       "  <tbody>\n",
       "    <tr>\n",
       "      <th>365</th>\n",
       "      <td>2021-12-23</td>\n",
       "      <td>0.053887</td>\n",
       "      <td>-0.007328</td>\n",
       "      <td>0.042052</td>\n",
       "      <td>0.002785</td>\n",
       "      <td>-0.010408</td>\n",
       "      <td>0.004789</td>\n",
       "      <td>-0.009500</td>\n",
       "      <td>0</td>\n",
       "      <td>0</td>\n",
       "    </tr>\n",
       "    <tr>\n",
       "      <th>366</th>\n",
       "      <td>2021-12-24</td>\n",
       "      <td>-0.005813</td>\n",
       "      <td>0.043771</td>\n",
       "      <td>0.003097</td>\n",
       "      <td>-0.011414</td>\n",
       "      <td>0.005128</td>\n",
       "      <td>-0.008136</td>\n",
       "      <td>-0.061406</td>\n",
       "      <td>0</td>\n",
       "      <td>-1</td>\n",
       "    </tr>\n",
       "    <tr>\n",
       "      <th>367</th>\n",
       "      <td>2021-12-25</td>\n",
       "      <td>0.041912</td>\n",
       "      <td>-0.001492</td>\n",
       "      <td>-0.010867</td>\n",
       "      <td>0.004690</td>\n",
       "      <td>-0.005885</td>\n",
       "      <td>-0.061998</td>\n",
       "      <td>-0.027376</td>\n",
       "      <td>0</td>\n",
       "      <td>-1</td>\n",
       "    </tr>\n",
       "    <tr>\n",
       "      <th>368</th>\n",
       "      <td>2021-12-26</td>\n",
       "      <td>0.002828</td>\n",
       "      <td>-0.008574</td>\n",
       "      <td>0.015485</td>\n",
       "      <td>-0.004025</td>\n",
       "      <td>-0.062491</td>\n",
       "      <td>-0.030989</td>\n",
       "      <td>0.012307</td>\n",
       "      <td>0</td>\n",
       "      <td>-1</td>\n",
       "    </tr>\n",
       "    <tr>\n",
       "      <th>369</th>\n",
       "      <td>2021-12-27</td>\n",
       "      <td>-0.012521</td>\n",
       "      <td>0.003504</td>\n",
       "      <td>-0.009243</td>\n",
       "      <td>-0.062231</td>\n",
       "      <td>-0.026660</td>\n",
       "      <td>0.014263</td>\n",
       "      <td>-0.020724</td>\n",
       "      <td>0</td>\n",
       "      <td>-1</td>\n",
       "    </tr>\n",
       "  </tbody>\n",
       "</table>\n",
       "</div>"
      ],
      "text/plain": [
       "          date      AR-2      AR-1       AR0       AR1       AR2       AR3  \\\n",
       "365 2021-12-23  0.053887 -0.007328  0.042052  0.002785 -0.010408  0.004789   \n",
       "366 2021-12-24 -0.005813  0.043771  0.003097 -0.011414  0.005128 -0.008136   \n",
       "367 2021-12-25  0.041912 -0.001492 -0.010867  0.004690 -0.005885 -0.061998   \n",
       "368 2021-12-26  0.002828 -0.008574  0.015485 -0.004025 -0.062491 -0.030989   \n",
       "369 2021-12-27 -0.012521  0.003504 -0.009243 -0.062231 -0.026660  0.014263   \n",
       "\n",
       "          AR4  Relevant_pos  Relevant_neg  \n",
       "365 -0.009500  0             0             \n",
       "366 -0.061406  0            -1             \n",
       "367 -0.027376  0            -1             \n",
       "368  0.012307  0            -1             \n",
       "369 -0.020724  0            -1             "
      ]
     },
     "execution_count": 49,
     "metadata": {},
     "output_type": "execute_result"
    }
   ],
   "source": [
    "'''Relevant means that at least one day had AR higher than expected montly returns * 6 (Semester)'''\n",
    "n = 6  #6 is for semester\n",
    "\n",
    "relevant_matrix_pos = df_test2.iloc[:,1:len(df_test3.columns)] > expected_monthly_return*n \n",
    "relevant_matrix_neg = df_test2.iloc[:,1:len(df_test3.columns)] < -expected_monthly_return*n\n",
    "\n",
    "#BOOLEAN\n",
    "df_test3[\"Relevant_pos\"] = relevant_matrix_pos[list(relevant_matrix_pos.columns)].any(axis=1).astype(int)\n",
    "df_test3[\"Relevant_neg\"] = -1*(relevant_matrix_neg[list(relevant_matrix_neg.columns)].any(axis=1).astype(int))\n",
    "\n",
    "\n",
    "df_test3.tail()"
   ]
  },
  {
   "cell_type": "code",
   "execution_count": 50,
   "metadata": {
    "id": "I8pbmnHmur9B"
   },
   "outputs": [
    {
     "name": "stdout",
     "output_type": "stream",
     "text": [
      "Threshold: 0.06023023278871147\n"
     ]
    }
   ],
   "source": [
    "print(\"Threshold:\", expected_monthly_return*n)"
   ]
  },
  {
   "cell_type": "code",
   "execution_count": 51,
   "metadata": {
    "colab": {
     "base_uri": "https://localhost:8080/",
     "height": 423
    },
    "id": "6xo2NWd4pllC",
    "outputId": "4f6fa542-45d7-4c32-e476-67f7242ca6c9"
   },
   "outputs": [
    {
     "data": {
      "text/html": [
       "<div>\n",
       "<style scoped>\n",
       "    .dataframe tbody tr th:only-of-type {\n",
       "        vertical-align: middle;\n",
       "    }\n",
       "\n",
       "    .dataframe tbody tr th {\n",
       "        vertical-align: top;\n",
       "    }\n",
       "\n",
       "    .dataframe thead th {\n",
       "        text-align: right;\n",
       "    }\n",
       "</style>\n",
       "<table border=\"1\" class=\"dataframe\">\n",
       "  <thead>\n",
       "    <tr style=\"text-align: right;\">\n",
       "      <th></th>\n",
       "      <th>date</th>\n",
       "      <th>AR-2</th>\n",
       "      <th>AR-1</th>\n",
       "      <th>AR0</th>\n",
       "      <th>AR1</th>\n",
       "      <th>AR2</th>\n",
       "      <th>AR3</th>\n",
       "      <th>AR4</th>\n",
       "      <th>Relevant_pos</th>\n",
       "      <th>Relevant_neg</th>\n",
       "    </tr>\n",
       "  </thead>\n",
       "  <tbody>\n",
       "    <tr>\n",
       "      <th>25</th>\n",
       "      <td>2020-11-26</td>\n",
       "      <td>0.023244</td>\n",
       "      <td>-0.019399</td>\n",
       "      <td>-0.081413</td>\n",
       "      <td>-0.005158</td>\n",
       "      <td>0.025960</td>\n",
       "      <td>0.018030</td>\n",
       "      <td>0.078922</td>\n",
       "      <td>1</td>\n",
       "      <td>-1</td>\n",
       "    </tr>\n",
       "    <tr>\n",
       "      <th>26</th>\n",
       "      <td>2020-11-28</td>\n",
       "      <td>-0.090174</td>\n",
       "      <td>-0.008776</td>\n",
       "      <td>0.031673</td>\n",
       "      <td>0.028016</td>\n",
       "      <td>0.077014</td>\n",
       "      <td>-0.048362</td>\n",
       "      <td>0.014640</td>\n",
       "      <td>1</td>\n",
       "      <td>-1</td>\n",
       "    </tr>\n",
       "    <tr>\n",
       "      <th>32</th>\n",
       "      <td>2021-01-07</td>\n",
       "      <td>0.053958</td>\n",
       "      <td>0.060173</td>\n",
       "      <td>0.063564</td>\n",
       "      <td>0.035601</td>\n",
       "      <td>-0.022412</td>\n",
       "      <td>-0.058337</td>\n",
       "      <td>-0.076203</td>\n",
       "      <td>1</td>\n",
       "      <td>-1</td>\n",
       "    </tr>\n",
       "    <tr>\n",
       "      <th>33</th>\n",
       "      <td>2021-01-08</td>\n",
       "      <td>0.060265</td>\n",
       "      <td>0.063714</td>\n",
       "      <td>0.035699</td>\n",
       "      <td>-0.022405</td>\n",
       "      <td>-0.058342</td>\n",
       "      <td>-0.076084</td>\n",
       "      <td>-0.056106</td>\n",
       "      <td>1</td>\n",
       "      <td>-1</td>\n",
       "    </tr>\n",
       "    <tr>\n",
       "      <th>34</th>\n",
       "      <td>2021-01-09</td>\n",
       "      <td>0.063802</td>\n",
       "      <td>0.035767</td>\n",
       "      <td>-0.022304</td>\n",
       "      <td>-0.058161</td>\n",
       "      <td>-0.076079</td>\n",
       "      <td>-0.055774</td>\n",
       "      <td>0.099873</td>\n",
       "      <td>1</td>\n",
       "      <td>-1</td>\n",
       "    </tr>\n",
       "    <tr>\n",
       "      <th>...</th>\n",
       "      <td>...</td>\n",
       "      <td>...</td>\n",
       "      <td>...</td>\n",
       "      <td>...</td>\n",
       "      <td>...</td>\n",
       "      <td>...</td>\n",
       "      <td>...</td>\n",
       "      <td>...</td>\n",
       "      <td>...</td>\n",
       "      <td>...</td>\n",
       "    </tr>\n",
       "    <tr>\n",
       "      <th>273</th>\n",
       "      <td>2021-09-20</td>\n",
       "      <td>0.020703</td>\n",
       "      <td>-0.024705</td>\n",
       "      <td>-0.087675</td>\n",
       "      <td>-0.053367</td>\n",
       "      <td>0.071113</td>\n",
       "      <td>0.030326</td>\n",
       "      <td>-0.041116</td>\n",
       "      <td>1</td>\n",
       "      <td>-1</td>\n",
       "    </tr>\n",
       "    <tr>\n",
       "      <th>274</th>\n",
       "      <td>2021-09-21</td>\n",
       "      <td>-0.025001</td>\n",
       "      <td>-0.088398</td>\n",
       "      <td>-0.053978</td>\n",
       "      <td>0.071635</td>\n",
       "      <td>0.031240</td>\n",
       "      <td>-0.040864</td>\n",
       "      <td>-0.000940</td>\n",
       "      <td>1</td>\n",
       "      <td>-1</td>\n",
       "    </tr>\n",
       "    <tr>\n",
       "      <th>275</th>\n",
       "      <td>2021-09-22</td>\n",
       "      <td>-0.086050</td>\n",
       "      <td>-0.056730</td>\n",
       "      <td>0.068820</td>\n",
       "      <td>0.028382</td>\n",
       "      <td>-0.041583</td>\n",
       "      <td>0.000786</td>\n",
       "      <td>0.025880</td>\n",
       "      <td>1</td>\n",
       "      <td>-1</td>\n",
       "    </tr>\n",
       "    <tr>\n",
       "      <th>300</th>\n",
       "      <td>2021-10-17</td>\n",
       "      <td>0.094219</td>\n",
       "      <td>-0.006710</td>\n",
       "      <td>0.012133</td>\n",
       "      <td>0.013849</td>\n",
       "      <td>0.034213</td>\n",
       "      <td>0.029002</td>\n",
       "      <td>-0.067220</td>\n",
       "      <td>1</td>\n",
       "      <td>-1</td>\n",
       "    </tr>\n",
       "    <tr>\n",
       "      <th>340</th>\n",
       "      <td>2021-11-28</td>\n",
       "      <td>-0.068657</td>\n",
       "      <td>-0.008857</td>\n",
       "      <td>0.062691</td>\n",
       "      <td>-0.034344</td>\n",
       "      <td>-0.039142</td>\n",
       "      <td>0.014051</td>\n",
       "      <td>-0.029041</td>\n",
       "      <td>1</td>\n",
       "      <td>-1</td>\n",
       "    </tr>\n",
       "  </tbody>\n",
       "</table>\n",
       "<p>62 rows × 10 columns</p>\n",
       "</div>"
      ],
      "text/plain": [
       "          date      AR-2      AR-1       AR0       AR1       AR2       AR3  \\\n",
       "25  2020-11-26  0.023244 -0.019399 -0.081413 -0.005158  0.025960  0.018030   \n",
       "26  2020-11-28 -0.090174 -0.008776  0.031673  0.028016  0.077014 -0.048362   \n",
       "32  2021-01-07  0.053958  0.060173  0.063564  0.035601 -0.022412 -0.058337   \n",
       "33  2021-01-08  0.060265  0.063714  0.035699 -0.022405 -0.058342 -0.076084   \n",
       "34  2021-01-09  0.063802  0.035767 -0.022304 -0.058161 -0.076079 -0.055774   \n",
       "..         ...       ...       ...       ...       ...       ...       ...   \n",
       "273 2021-09-20  0.020703 -0.024705 -0.087675 -0.053367  0.071113  0.030326   \n",
       "274 2021-09-21 -0.025001 -0.088398 -0.053978  0.071635  0.031240 -0.040864   \n",
       "275 2021-09-22 -0.086050 -0.056730  0.068820  0.028382 -0.041583  0.000786   \n",
       "300 2021-10-17  0.094219 -0.006710  0.012133  0.013849  0.034213  0.029002   \n",
       "340 2021-11-28 -0.068657 -0.008857  0.062691 -0.034344 -0.039142  0.014051   \n",
       "\n",
       "          AR4  Relevant_pos  Relevant_neg  \n",
       "25   0.078922  1            -1             \n",
       "26   0.014640  1            -1             \n",
       "32  -0.076203  1            -1             \n",
       "33  -0.056106  1            -1             \n",
       "34   0.099873  1            -1             \n",
       "..        ... ..            ..             \n",
       "273 -0.041116  1            -1             \n",
       "274 -0.000940  1            -1             \n",
       "275  0.025880  1            -1             \n",
       "300 -0.067220  1            -1             \n",
       "340 -0.029041  1            -1             \n",
       "\n",
       "[62 rows x 10 columns]"
      ]
     },
     "execution_count": 51,
     "metadata": {},
     "output_type": "execute_result"
    }
   ],
   "source": [
    "#Days with high volatility (relevant positive and negative)\n",
    "# df_test3[(df_test3[\"Relevant_neg\"] == -1) & (df_test3[\"Relevant_pos\"] == 1)]"
   ]
  },
  {
   "cell_type": "code",
   "execution_count": 52,
   "metadata": {
    "colab": {
     "base_uri": "https://localhost:8080/"
    },
    "id": "eg-8d3dbpllC",
    "outputId": "78d5f794-badd-4857-9f74-a4c7f316c256"
   },
   "outputs": [
    {
     "data": {
      "text/plain": [
       "date            162\n",
       "AR-2            162\n",
       "AR-1            162\n",
       "AR0             162\n",
       "AR1             162\n",
       "AR2             162\n",
       "AR3             162\n",
       "AR4             162\n",
       "Relevant_pos    162\n",
       "Relevant_neg    162\n",
       "dtype: int64"
      ]
     },
     "execution_count": 52,
     "metadata": {},
     "output_type": "execute_result"
    }
   ],
   "source": [
    "# df_test3[df_test3[\"Relevant_neg\"] == -1].count()"
   ]
  },
  {
   "cell_type": "code",
   "execution_count": 53,
   "metadata": {
    "colab": {
     "base_uri": "https://localhost:8080/"
    },
    "id": "KcDf4wTEpllC",
    "outputId": "ea164337-cb28-45b5-c0fa-099a1387f940"
   },
   "outputs": [
    {
     "data": {
      "text/plain": [
       "date            149\n",
       "AR-2            149\n",
       "AR-1            149\n",
       "AR0             149\n",
       "AR1             149\n",
       "AR2             149\n",
       "AR3             149\n",
       "AR4             149\n",
       "Relevant_pos    149\n",
       "Relevant_neg    149\n",
       "dtype: int64"
      ]
     },
     "execution_count": 53,
     "metadata": {},
     "output_type": "execute_result"
    }
   ],
   "source": [
    "# df_test3[df_test3[\"Relevant_pos\"] == 1].count()"
   ]
  },
  {
   "cell_type": "code",
   "execution_count": 54,
   "metadata": {
    "colab": {
     "base_uri": "https://localhost:8080/"
    },
    "id": "lNMG5qETpllC",
    "outputId": "95c71ec0-7dd7-4fc0-fc3e-14dca8636852"
   },
   "outputs": [
    {
     "data": {
      "text/plain": [
       "2     2020-04-18\n",
       "3     2020-05-01\n",
       "4     2020-05-05\n",
       "21    2020-11-02\n",
       "25    2020-11-26\n",
       "         ...    \n",
       "319   2021-11-06\n",
       "320   2021-11-08\n",
       "321   2021-11-09\n",
       "322   2021-11-10\n",
       "340   2021-11-28\n",
       "Name: date, Length: 149, dtype: datetime64[ns]"
      ]
     },
     "execution_count": 54,
     "metadata": {},
     "output_type": "execute_result"
    }
   ],
   "source": [
    "# df_test3.date[(df_test3[\"Relevant_pos\"]==1) | (df_test3[\"Relevant_pos\"]==-1)]"
   ]
  },
  {
   "cell_type": "code",
   "execution_count": null,
   "metadata": {
    "id": "Y0eR5D8WpllC"
   },
   "outputs": [],
   "source": []
  },
  {
   "cell_type": "markdown",
   "metadata": {
    "id": "92P7tIvYqPvp"
   },
   "source": [
    "---\n",
    "### Appending News with event study"
   ]
  },
  {
   "cell_type": "code",
   "execution_count": 55,
   "metadata": {
    "id": "zp7tlzJApllD"
   },
   "outputs": [],
   "source": [
    "news3k[\"date_parsed\"]=pd.to_datetime(news3k['date_parsed'])\n"
   ]
  },
  {
   "cell_type": "code",
   "execution_count": 112,
   "metadata": {
    "id": "SqycZSr_pllD"
   },
   "outputs": [],
   "source": [
    "news3k_relevant = pd.merge(news3k,df_test3, left_on =\"date_parsed\", right_on=\"date\").drop(columns=[\"date_parsed\"],axis=1)"
   ]
  },
  {
   "cell_type": "code",
   "execution_count": 113,
   "metadata": {
    "colab": {
     "base_uri": "https://localhost:8080/"
    },
    "id": "p8D7wFvIpllD",
    "outputId": "4a0f4745-8e4b-427f-d21d-e9cf52b07e28"
   },
   "outputs": [
    {
     "data": {
      "text/plain": [
       "Index(['id', 'date_x', 'news', 'final_manual_labelling', 'text_span', 'date_y',\n",
       "       'AR-2', 'AR-1', 'AR0', 'AR1', 'AR2', 'AR3', 'AR4', 'Relevant_pos',\n",
       "       'Relevant_neg'],\n",
       "      dtype='object')"
      ]
     },
     "execution_count": 113,
     "metadata": {},
     "output_type": "execute_result"
    }
   ],
   "source": [
    "news3k_relevant.columns"
   ]
  },
  {
   "cell_type": "code",
   "execution_count": 114,
   "metadata": {
    "colab": {
     "base_uri": "https://localhost:8080/",
     "height": 964
    },
    "id": "qsSmiCiQpllD",
    "outputId": "0936514e-7660-42ad-c102-7435a0ac794d"
   },
   "outputs": [],
   "source": [
    "news3k_relevant_1 = news3k_relevant[(news3k_relevant[\"Relevant_pos\"]==1) | (news3k_relevant[\"Relevant_pos\"]==-1)]\n",
    "# news3k_relevant_1.tail()"
   ]
  },
  {
   "cell_type": "code",
   "execution_count": 115,
   "metadata": {},
   "outputs": [
    {
     "name": "stderr",
     "output_type": "stream",
     "text": [
      "/var/folders/m4/xkrhq1cj3gq0qvjhg5y8bh480000gq/T/ipykernel_55601/2247192074.py:1: FutureWarning: DataFrame.mean and DataFrame.median with numeric_only=None will include datetime64 and datetime64tz columns in a future version.\n",
      "  news3k_relevant_1['mean_AR'] = news3k_relevant_1.mean(axis=1)\n",
      "/var/folders/m4/xkrhq1cj3gq0qvjhg5y8bh480000gq/T/ipykernel_55601/2247192074.py:1: FutureWarning: Dropping of nuisance columns in DataFrame reductions (with 'numeric_only=None') is deprecated; in a future version this will raise TypeError.  Select only valid columns before calling the reduction.\n",
      "  news3k_relevant_1['mean_AR'] = news3k_relevant_1.mean(axis=1)\n",
      "/var/folders/m4/xkrhq1cj3gq0qvjhg5y8bh480000gq/T/ipykernel_55601/2247192074.py:1: SettingWithCopyWarning: \n",
      "A value is trying to be set on a copy of a slice from a DataFrame.\n",
      "Try using .loc[row_indexer,col_indexer] = value instead\n",
      "\n",
      "See the caveats in the documentation: https://pandas.pydata.org/pandas-docs/stable/user_guide/indexing.html#returning-a-view-versus-a-copy\n",
      "  news3k_relevant_1['mean_AR'] = news3k_relevant_1.mean(axis=1)\n"
     ]
    }
   ],
   "source": [
    "news3k_relevant_1['mean_AR'] = news3k_relevant_1.mean(axis=1)"
   ]
  },
  {
   "cell_type": "code",
   "execution_count": 119,
   "metadata": {},
   "outputs": [
    {
     "data": {
      "text/html": [
       "<div>\n",
       "<style scoped>\n",
       "    .dataframe tbody tr th:only-of-type {\n",
       "        vertical-align: middle;\n",
       "    }\n",
       "\n",
       "    .dataframe tbody tr th {\n",
       "        vertical-align: top;\n",
       "    }\n",
       "\n",
       "    .dataframe thead th {\n",
       "        text-align: right;\n",
       "    }\n",
       "</style>\n",
       "<table border=\"1\" class=\"dataframe\">\n",
       "  <thead>\n",
       "    <tr style=\"text-align: right;\">\n",
       "      <th></th>\n",
       "      <th>id</th>\n",
       "      <th>date_x</th>\n",
       "      <th>news</th>\n",
       "      <th>final_manual_labelling</th>\n",
       "      <th>text_span</th>\n",
       "      <th>date_y</th>\n",
       "      <th>AR-2</th>\n",
       "      <th>AR-1</th>\n",
       "      <th>AR0</th>\n",
       "      <th>AR1</th>\n",
       "      <th>AR2</th>\n",
       "      <th>AR3</th>\n",
       "      <th>AR4</th>\n",
       "      <th>Relevant_pos</th>\n",
       "      <th>Relevant_neg</th>\n",
       "      <th>mean_AR</th>\n",
       "    </tr>\n",
       "  </thead>\n",
       "  <tbody>\n",
       "    <tr>\n",
       "      <th>255</th>\n",
       "      <td>495</td>\n",
       "      <td>11/28/2021</td>\n",
       "      <td>Bank of France official: Existing regulatory frameworks ÂconstrainedÂ by DeFi characteristics</td>\n",
       "      <td>-1</td>\n",
       "      <td>{annotator1_id:10;annotator1_label:-1; annotator2_id:5; annotator2_label2:-1; annotator3_id:7;annotator3_label:-1}</td>\n",
       "      <td>2021-11-28</td>\n",
       "      <td>-0.068657</td>\n",
       "      <td>-0.008857</td>\n",
       "      <td>0.062691</td>\n",
       "      <td>-0.034344</td>\n",
       "      <td>-0.039142</td>\n",
       "      <td>0.014051</td>\n",
       "      <td>-0.029041</td>\n",
       "      <td>1</td>\n",
       "      <td>-1</td>\n",
       "      <td>44.899700</td>\n",
       "    </tr>\n",
       "    <tr>\n",
       "      <th>256</th>\n",
       "      <td>496</td>\n",
       "      <td>11/28/2021</td>\n",
       "      <td>Decentralized exchanges near $100 billion in monthly volume for November</td>\n",
       "      <td>1</td>\n",
       "      <td>{annotator1_id:21;annotator1_label:1; annotator2_id:2; annotator2_label2:1; annotator3_id:4;annotator3_label:1}</td>\n",
       "      <td>2021-11-28</td>\n",
       "      <td>-0.068657</td>\n",
       "      <td>-0.008857</td>\n",
       "      <td>0.062691</td>\n",
       "      <td>-0.034344</td>\n",
       "      <td>-0.039142</td>\n",
       "      <td>0.014051</td>\n",
       "      <td>-0.029041</td>\n",
       "      <td>1</td>\n",
       "      <td>-1</td>\n",
       "      <td>45.172427</td>\n",
       "    </tr>\n",
       "    <tr>\n",
       "      <th>257</th>\n",
       "      <td>497</td>\n",
       "      <td>11/28/2021</td>\n",
       "      <td>QANplatform (QANX), the quantum-resistant blockchain platform launches its CEX listing journey on Gate.io</td>\n",
       "      <td>1</td>\n",
       "      <td>{annotator1_id:15;annotator1_label:1; annotator2_id:23; annotator2_label2:1; annotator3_id:24;annotator3_label:1}</td>\n",
       "      <td>2021-11-28</td>\n",
       "      <td>-0.068657</td>\n",
       "      <td>-0.008857</td>\n",
       "      <td>0.062691</td>\n",
       "      <td>-0.034344</td>\n",
       "      <td>-0.039142</td>\n",
       "      <td>0.014051</td>\n",
       "      <td>-0.029041</td>\n",
       "      <td>1</td>\n",
       "      <td>-1</td>\n",
       "      <td>45.263337</td>\n",
       "    </tr>\n",
       "    <tr>\n",
       "      <th>387</th>\n",
       "      <td>627</td>\n",
       "      <td>11/10/2021</td>\n",
       "      <td>Axie Infinity co-founder joins early-stage token fund 1kx as venture partner</td>\n",
       "      <td>0</td>\n",
       "      <td>{annotator1_id:22;annotator1_label:0; annotator2_id:9; annotator2_label2:0; annotator3_id:4;annotator3_label:0}</td>\n",
       "      <td>2021-11-10</td>\n",
       "      <td>0.061993</td>\n",
       "      <td>-0.013972</td>\n",
       "      <td>-0.034900</td>\n",
       "      <td>-0.005808</td>\n",
       "      <td>-0.016713</td>\n",
       "      <td>-0.000151</td>\n",
       "      <td>0.010776</td>\n",
       "      <td>1</td>\n",
       "      <td>0</td>\n",
       "      <td>57.091020</td>\n",
       "    </tr>\n",
       "    <tr>\n",
       "      <th>388</th>\n",
       "      <td>628</td>\n",
       "      <td>11/10/2021</td>\n",
       "      <td>Country Music Association to release NFT collection for its latest award show</td>\n",
       "      <td>0</td>\n",
       "      <td>{annotator1_id:15;annotator1_label:0; annotator2_id:2; annotator2_label2:0; annotator3_id:17;annotator3_label:0}</td>\n",
       "      <td>2021-11-10</td>\n",
       "      <td>0.061993</td>\n",
       "      <td>-0.013972</td>\n",
       "      <td>-0.034900</td>\n",
       "      <td>-0.005808</td>\n",
       "      <td>-0.016713</td>\n",
       "      <td>-0.000151</td>\n",
       "      <td>0.010776</td>\n",
       "      <td>1</td>\n",
       "      <td>0</td>\n",
       "      <td>57.181930</td>\n",
       "    </tr>\n",
       "  </tbody>\n",
       "</table>\n",
       "</div>"
      ],
      "text/plain": [
       "      id      date_x  \\\n",
       "255  495  11/28/2021   \n",
       "256  496  11/28/2021   \n",
       "257  497  11/28/2021   \n",
       "387  627  11/10/2021   \n",
       "388  628  11/10/2021   \n",
       "\n",
       "                                                                                                          news  \\\n",
       "255  Bank of France official: Existing regulatory frameworks ÂconstrainedÂ by DeFi characteristics             \n",
       "256  Decentralized exchanges near $100 billion in monthly volume for November                                    \n",
       "257  QANplatform (QANX), the quantum-resistant blockchain platform launches its CEX listing journey on Gate.io   \n",
       "387  Axie Infinity co-founder joins early-stage token fund 1kx as venture partner                                \n",
       "388  Country Music Association to release NFT collection for its latest award show                               \n",
       "\n",
       "     final_manual_labelling  \\\n",
       "255 -1                        \n",
       "256  1                        \n",
       "257  1                        \n",
       "387  0                        \n",
       "388  0                        \n",
       "\n",
       "                                                                                                              text_span  \\\n",
       "255  {annotator1_id:10;annotator1_label:-1; annotator2_id:5; annotator2_label2:-1; annotator3_id:7;annotator3_label:-1}   \n",
       "256  {annotator1_id:21;annotator1_label:1; annotator2_id:2; annotator2_label2:1; annotator3_id:4;annotator3_label:1}      \n",
       "257  {annotator1_id:15;annotator1_label:1; annotator2_id:23; annotator2_label2:1; annotator3_id:24;annotator3_label:1}    \n",
       "387  {annotator1_id:22;annotator1_label:0; annotator2_id:9; annotator2_label2:0; annotator3_id:4;annotator3_label:0}      \n",
       "388  {annotator1_id:15;annotator1_label:0; annotator2_id:2; annotator2_label2:0; annotator3_id:17;annotator3_label:0}     \n",
       "\n",
       "        date_y      AR-2      AR-1       AR0       AR1       AR2       AR3  \\\n",
       "255 2021-11-28 -0.068657 -0.008857  0.062691 -0.034344 -0.039142  0.014051   \n",
       "256 2021-11-28 -0.068657 -0.008857  0.062691 -0.034344 -0.039142  0.014051   \n",
       "257 2021-11-28 -0.068657 -0.008857  0.062691 -0.034344 -0.039142  0.014051   \n",
       "387 2021-11-10  0.061993 -0.013972 -0.034900 -0.005808 -0.016713 -0.000151   \n",
       "388 2021-11-10  0.061993 -0.013972 -0.034900 -0.005808 -0.016713 -0.000151   \n",
       "\n",
       "          AR4  Relevant_pos  Relevant_neg    mean_AR  \n",
       "255 -0.029041  1            -1             44.899700  \n",
       "256 -0.029041  1            -1             45.172427  \n",
       "257 -0.029041  1            -1             45.263337  \n",
       "387  0.010776  1             0             57.091020  \n",
       "388  0.010776  1             0             57.181930  "
      ]
     },
     "execution_count": 119,
     "metadata": {},
     "output_type": "execute_result"
    }
   ],
   "source": [
    "news3k_relevant_1.head()"
   ]
  },
  {
   "cell_type": "code",
   "execution_count": 139,
   "metadata": {},
   "outputs": [
    {
     "name": "stderr",
     "output_type": "stream",
     "text": [
      "/var/folders/m4/xkrhq1cj3gq0qvjhg5y8bh480000gq/T/ipykernel_55601/3886233552.py:26: SettingWithCopyWarning: \n",
      "A value is trying to be set on a copy of a slice from a DataFrame.\n",
      "Try using .loc[row_indexer,col_indexer] = value instead\n",
      "\n",
      "See the caveats in the documentation: https://pandas.pydata.org/pandas-docs/stable/user_guide/indexing.html#returning-a-view-versus-a-copy\n",
      "  news3k_relevant_1[\"strength\"] = np.where((news3k_relevant_1[\"mean_AR\"] < upper_limit) & (news3k_relevant_1[\"mean_AR\"] > lower_limit), 1, 0)\n"
     ]
    },
    {
     "data": {
      "text/plain": [
       "0    515\n",
       "1    479\n",
       "Name: strength, dtype: int64"
      ]
     },
     "execution_count": 139,
     "metadata": {},
     "output_type": "execute_result"
    }
   ],
   "source": [
    "# news3k_relevant_1\n",
    "\n",
    "mean_AR = news3k_relevant_1.mean_AR\n",
    "\n",
    "# construct the probability density function\n",
    "# def normal_dist(x , mean , sd):\n",
    "#     prob_density = (np.pi*sd) * np.exp(-0.5*((x-mean)/sd)**2)\n",
    "#     return prob_density\n",
    "\n",
    "#Calculate mean and Standard deviation.\n",
    "mean = np.mean(mean_AR)\n",
    "sd = np.std(mean_AR)\n",
    "\n",
    "# pdf = normal_dist(mean_AR,mean,sd)\n",
    "\n",
    "# get lower and upper limit for the normal distribution\n",
    "upper_limit = mean+sd\n",
    "lower_limit = mean-sd\n",
    "\n",
    "# plot the normal distribution\n",
    "# plt.plot(mean_AR,pdf , color = 'red')\n",
    "# plt.xlabel('Data points')\n",
    "# plt.ylabel('Probability Density')\n",
    "\n",
    "\n",
    "news3k_relevant_1[\"strength\"] = np.where((news3k_relevant_1[\"mean_AR\"] < upper_limit) & (news3k_relevant_1[\"mean_AR\"] > lower_limit), 1, 0)\n",
    "news3k_relevant_1[\"strength\"].value_counts()"
   ]
  },
  {
   "cell_type": "code",
   "execution_count": 150,
   "metadata": {},
   "outputs": [],
   "source": [
    "to_export = news3k_relevant_1[['news','strength']]\n",
    "to_export.to_csv('/Users/niko/Downloads/GROUP_PROJECT_CRYPTO_CURATED_DATABASE/strength_score_with_news')"
   ]
  },
  {
   "cell_type": "code",
   "execution_count": 60,
   "metadata": {
    "colab": {
     "base_uri": "https://localhost:8080/",
     "height": 294
    },
    "id": "JZzPy5oSzjFu",
    "outputId": "8a948186-9def-4d10-904d-eb011cd6d5f3"
   },
   "outputs": [],
   "source": [
    "#More news in 2021 than other years, still growing\n",
    "# pd.DataFrame(news3k_relevant.groupby(news3k_relevant['date_x']).size()).plot()"
   ]
  },
  {
   "cell_type": "code",
   "execution_count": 71,
   "metadata": {
    "colab": {
     "base_uri": "https://localhost:8080/",
     "height": 294
    },
    "id": "Z1yVT6s-pllD",
    "outputId": "bd42c590-49cb-4d26-afb2-7ae7f8905286"
   },
   "outputs": [],
   "source": [
    "# pd.DataFrame(news3k_relevant_1.groupby(news3k_relevant_1['date_x']).size()).plot()"
   ]
  },
  {
   "cell_type": "code",
   "execution_count": 72,
   "metadata": {
    "colab": {
     "base_uri": "https://localhost:8080/",
     "height": 295
    },
    "id": "9KKZS67upllD",
    "outputId": "19d07772-a026-4869-a8ad-93d255dc4dff"
   },
   "outputs": [],
   "source": [
    "# pd.DataFrame(news3k.groupby(news3k['date_parsed']).size()).plot()"
   ]
  },
  {
   "cell_type": "code",
   "execution_count": null,
   "metadata": {},
   "outputs": [],
   "source": []
  }
 ],
 "metadata": {
  "colab": {
   "collapsed_sections": [
    "3FDbenljpllE"
   ],
   "name": "20220226_CryptoEvents_Clean.ipynb",
   "provenance": []
  },
  "kernelspec": {
   "display_name": "Python 3.9.7 64-bit ('3.9.7')",
   "language": "python",
   "name": "python3"
  },
  "language_info": {
   "codemirror_mode": {
    "name": "ipython",
    "version": 3
   },
   "file_extension": ".py",
   "mimetype": "text/x-python",
   "name": "python",
   "nbconvert_exporter": "python",
   "pygments_lexer": "ipython3",
   "version": "3.9.7"
  },
  "vscode": {
   "interpreter": {
    "hash": "d10872ef9e95b9720d02928511746e40ae127ce0f5da59b70d3a1bf3970d839a"
   }
  },
  "widgets": {
   "application/vnd.jupyter.widget-state+json": {
    "015a4233b5c240278fc19bf2a7236647": {
     "model_module": "@jupyter-widgets/base",
     "model_module_version": "1.2.0",
     "model_name": "LayoutModel",
     "state": {
      "_model_module": "@jupyter-widgets/base",
      "_model_module_version": "1.2.0",
      "_model_name": "LayoutModel",
      "_view_count": null,
      "_view_module": "@jupyter-widgets/base",
      "_view_module_version": "1.2.0",
      "_view_name": "LayoutView",
      "align_content": null,
      "align_items": null,
      "align_self": null,
      "border": null,
      "bottom": null,
      "display": null,
      "flex": null,
      "flex_flow": null,
      "grid_area": null,
      "grid_auto_columns": null,
      "grid_auto_flow": null,
      "grid_auto_rows": null,
      "grid_column": null,
      "grid_gap": null,
      "grid_row": null,
      "grid_template_areas": null,
      "grid_template_columns": null,
      "grid_template_rows": null,
      "height": null,
      "justify_content": null,
      "justify_items": null,
      "left": null,
      "margin": null,
      "max_height": null,
      "max_width": null,
      "min_height": null,
      "min_width": null,
      "object_fit": null,
      "object_position": null,
      "order": null,
      "overflow": null,
      "overflow_x": null,
      "overflow_y": null,
      "padding": null,
      "right": null,
      "top": null,
      "visibility": null,
      "width": null
     }
    },
    "099e4a2c200f4c43912b1c3524f89f85": {
     "model_module": "@jupyter-widgets/controls",
     "model_module_version": "1.5.0",
     "model_name": "ProgressStyleModel",
     "state": {
      "_model_module": "@jupyter-widgets/controls",
      "_model_module_version": "1.5.0",
      "_model_name": "ProgressStyleModel",
      "_view_count": null,
      "_view_module": "@jupyter-widgets/base",
      "_view_module_version": "1.2.0",
      "_view_name": "StyleView",
      "bar_color": null,
      "description_width": ""
     }
    },
    "11b6b1b8f34c45a7b21255c352f4c270": {
     "model_module": "@jupyter-widgets/controls",
     "model_module_version": "1.5.0",
     "model_name": "ProgressStyleModel",
     "state": {
      "_model_module": "@jupyter-widgets/controls",
      "_model_module_version": "1.5.0",
      "_model_name": "ProgressStyleModel",
      "_view_count": null,
      "_view_module": "@jupyter-widgets/base",
      "_view_module_version": "1.2.0",
      "_view_name": "StyleView",
      "bar_color": null,
      "description_width": ""
     }
    },
    "1c3d5f6c49c94aa38e90f8ec88e9fab5": {
     "model_module": "@jupyter-widgets/controls",
     "model_module_version": "1.5.0",
     "model_name": "DescriptionStyleModel",
     "state": {
      "_model_module": "@jupyter-widgets/controls",
      "_model_module_version": "1.5.0",
      "_model_name": "DescriptionStyleModel",
      "_view_count": null,
      "_view_module": "@jupyter-widgets/base",
      "_view_module_version": "1.2.0",
      "_view_name": "StyleView",
      "description_width": ""
     }
    },
    "1ecc597130844b18a771cce7dbef8d82": {
     "model_module": "@jupyter-widgets/base",
     "model_module_version": "1.2.0",
     "model_name": "LayoutModel",
     "state": {
      "_model_module": "@jupyter-widgets/base",
      "_model_module_version": "1.2.0",
      "_model_name": "LayoutModel",
      "_view_count": null,
      "_view_module": "@jupyter-widgets/base",
      "_view_module_version": "1.2.0",
      "_view_name": "LayoutView",
      "align_content": null,
      "align_items": null,
      "align_self": null,
      "border": null,
      "bottom": null,
      "display": null,
      "flex": null,
      "flex_flow": null,
      "grid_area": null,
      "grid_auto_columns": null,
      "grid_auto_flow": null,
      "grid_auto_rows": null,
      "grid_column": null,
      "grid_gap": null,
      "grid_row": null,
      "grid_template_areas": null,
      "grid_template_columns": null,
      "grid_template_rows": null,
      "height": null,
      "justify_content": null,
      "justify_items": null,
      "left": null,
      "margin": null,
      "max_height": null,
      "max_width": null,
      "min_height": null,
      "min_width": null,
      "object_fit": null,
      "object_position": null,
      "order": null,
      "overflow": null,
      "overflow_x": null,
      "overflow_y": null,
      "padding": null,
      "right": null,
      "top": null,
      "visibility": null,
      "width": null
     }
    },
    "263929184316478db0a579dae1049020": {
     "model_module": "@jupyter-widgets/controls",
     "model_module_version": "1.5.0",
     "model_name": "HBoxModel",
     "state": {
      "_dom_classes": [],
      "_model_module": "@jupyter-widgets/controls",
      "_model_module_version": "1.5.0",
      "_model_name": "HBoxModel",
      "_view_count": null,
      "_view_module": "@jupyter-widgets/controls",
      "_view_module_version": "1.5.0",
      "_view_name": "HBoxView",
      "box_style": "",
      "children": [
       "IPY_MODEL_77e2fe91c14b4ff79823709c211343bf",
       "IPY_MODEL_775eca4f407146128b07d195cc5a7aaf",
       "IPY_MODEL_ed6f14e9129a45689b7e8fbd81aed1e7"
      ],
      "layout": "IPY_MODEL_015a4233b5c240278fc19bf2a7236647"
     }
    },
    "28cb124894fd43848539aed70b210556": {
     "model_module": "@jupyter-widgets/controls",
     "model_module_version": "1.5.0",
     "model_name": "DescriptionStyleModel",
     "state": {
      "_model_module": "@jupyter-widgets/controls",
      "_model_module_version": "1.5.0",
      "_model_name": "DescriptionStyleModel",
      "_view_count": null,
      "_view_module": "@jupyter-widgets/base",
      "_view_module_version": "1.2.0",
      "_view_name": "StyleView",
      "description_width": ""
     }
    },
    "2b67c099f8d44dcb8bce079e33ea0dd6": {
     "model_module": "@jupyter-widgets/base",
     "model_module_version": "1.2.0",
     "model_name": "LayoutModel",
     "state": {
      "_model_module": "@jupyter-widgets/base",
      "_model_module_version": "1.2.0",
      "_model_name": "LayoutModel",
      "_view_count": null,
      "_view_module": "@jupyter-widgets/base",
      "_view_module_version": "1.2.0",
      "_view_name": "LayoutView",
      "align_content": null,
      "align_items": null,
      "align_self": null,
      "border": null,
      "bottom": null,
      "display": null,
      "flex": null,
      "flex_flow": null,
      "grid_area": null,
      "grid_auto_columns": null,
      "grid_auto_flow": null,
      "grid_auto_rows": null,
      "grid_column": null,
      "grid_gap": null,
      "grid_row": null,
      "grid_template_areas": null,
      "grid_template_columns": null,
      "grid_template_rows": null,
      "height": null,
      "justify_content": null,
      "justify_items": null,
      "left": null,
      "margin": null,
      "max_height": null,
      "max_width": null,
      "min_height": null,
      "min_width": null,
      "object_fit": null,
      "object_position": null,
      "order": null,
      "overflow": null,
      "overflow_x": null,
      "overflow_y": null,
      "padding": null,
      "right": null,
      "top": null,
      "visibility": null,
      "width": null
     }
    },
    "2e57339b7dc94e75beafbc23d9730b1c": {
     "model_module": "@jupyter-widgets/controls",
     "model_module_version": "1.5.0",
     "model_name": "FloatProgressModel",
     "state": {
      "_dom_classes": [],
      "_model_module": "@jupyter-widgets/controls",
      "_model_module_version": "1.5.0",
      "_model_name": "FloatProgressModel",
      "_view_count": null,
      "_view_module": "@jupyter-widgets/controls",
      "_view_module_version": "1.5.0",
      "_view_name": "ProgressView",
      "bar_style": "success",
      "description": "",
      "description_tooltip": null,
      "layout": "IPY_MODEL_dcc48ed7526c4ca4b093dedf3d037d3a",
      "max": 226122,
      "min": 0,
      "orientation": "horizontal",
      "style": "IPY_MODEL_099e4a2c200f4c43912b1c3524f89f85",
      "value": 226122
     }
    },
    "3af9e57d77694e0fb1d314938a030de8": {
     "model_module": "@jupyter-widgets/controls",
     "model_module_version": "1.5.0",
     "model_name": "HBoxModel",
     "state": {
      "_dom_classes": [],
      "_model_module": "@jupyter-widgets/controls",
      "_model_module_version": "1.5.0",
      "_model_name": "HBoxModel",
      "_view_count": null,
      "_view_module": "@jupyter-widgets/controls",
      "_view_module_version": "1.5.0",
      "_view_name": "HBoxView",
      "box_style": "",
      "children": [
       "IPY_MODEL_9c5f6359c1724e5d82a0ada2aa96e655",
       "IPY_MODEL_2e57339b7dc94e75beafbc23d9730b1c",
       "IPY_MODEL_bc18356321714bda80e90866548425f0"
      ],
      "layout": "IPY_MODEL_a72ec757bcf84e2f8133cd0e4b14e582"
     }
    },
    "43ebc8a033d643c7bdd1cdd722ca2c5b": {
     "model_module": "@jupyter-widgets/controls",
     "model_module_version": "1.5.0",
     "model_name": "FloatProgressModel",
     "state": {
      "_dom_classes": [],
      "_model_module": "@jupyter-widgets/controls",
      "_model_module_version": "1.5.0",
      "_model_name": "FloatProgressModel",
      "_view_count": null,
      "_view_module": "@jupyter-widgets/controls",
      "_view_module_version": "1.5.0",
      "_view_name": "ProgressView",
      "bar_style": "success",
      "description": "",
      "description_tooltip": null,
      "layout": "IPY_MODEL_80fd5b7dca284ef9ac3c002a0eeb07a3",
      "max": 439101405,
      "min": 0,
      "orientation": "horizontal",
      "style": "IPY_MODEL_11b6b1b8f34c45a7b21255c352f4c270",
      "value": 439101405
     }
    },
    "547a951801604ab5b11ad9c6e143d329": {
     "model_module": "@jupyter-widgets/controls",
     "model_module_version": "1.5.0",
     "model_name": "DescriptionStyleModel",
     "state": {
      "_model_module": "@jupyter-widgets/controls",
      "_model_module_version": "1.5.0",
      "_model_name": "DescriptionStyleModel",
      "_view_count": null,
      "_view_module": "@jupyter-widgets/base",
      "_view_module_version": "1.2.0",
      "_view_name": "StyleView",
      "description_width": ""
     }
    },
    "593db840e1af4f65bac1a9ef45b7a29e": {
     "model_module": "@jupyter-widgets/controls",
     "model_module_version": "1.5.0",
     "model_name": "DescriptionStyleModel",
     "state": {
      "_model_module": "@jupyter-widgets/controls",
      "_model_module_version": "1.5.0",
      "_model_name": "DescriptionStyleModel",
      "_view_count": null,
      "_view_module": "@jupyter-widgets/base",
      "_view_module_version": "1.2.0",
      "_view_name": "StyleView",
      "description_width": ""
     }
    },
    "61082061282244a3b10a9d17896e9852": {
     "model_module": "@jupyter-widgets/base",
     "model_module_version": "1.2.0",
     "model_name": "LayoutModel",
     "state": {
      "_model_module": "@jupyter-widgets/base",
      "_model_module_version": "1.2.0",
      "_model_name": "LayoutModel",
      "_view_count": null,
      "_view_module": "@jupyter-widgets/base",
      "_view_module_version": "1.2.0",
      "_view_name": "LayoutView",
      "align_content": null,
      "align_items": null,
      "align_self": null,
      "border": null,
      "bottom": null,
      "display": null,
      "flex": null,
      "flex_flow": null,
      "grid_area": null,
      "grid_auto_columns": null,
      "grid_auto_flow": null,
      "grid_auto_rows": null,
      "grid_column": null,
      "grid_gap": null,
      "grid_row": null,
      "grid_template_areas": null,
      "grid_template_columns": null,
      "grid_template_rows": null,
      "height": null,
      "justify_content": null,
      "justify_items": null,
      "left": null,
      "margin": null,
      "max_height": null,
      "max_width": null,
      "min_height": null,
      "min_width": null,
      "object_fit": null,
      "object_position": null,
      "order": null,
      "overflow": null,
      "overflow_x": null,
      "overflow_y": null,
      "padding": null,
      "right": null,
      "top": null,
      "visibility": null,
      "width": null
     }
    },
    "710becf482404b778f04da7aa16d0a98": {
     "model_module": "@jupyter-widgets/controls",
     "model_module_version": "1.5.0",
     "model_name": "HBoxModel",
     "state": {
      "_dom_classes": [],
      "_model_module": "@jupyter-widgets/controls",
      "_model_module_version": "1.5.0",
      "_model_name": "HBoxModel",
      "_view_count": null,
      "_view_module": "@jupyter-widgets/controls",
      "_view_module_version": "1.5.0",
      "_view_name": "HBoxView",
      "box_style": "",
      "children": [
       "IPY_MODEL_ddb92fb1a90e41a59b657dd27496d40d",
       "IPY_MODEL_43ebc8a033d643c7bdd1cdd722ca2c5b",
       "IPY_MODEL_b0bf947419d74d49815a5142a1114c1d"
      ],
      "layout": "IPY_MODEL_1ecc597130844b18a771cce7dbef8d82"
     }
    },
    "775eca4f407146128b07d195cc5a7aaf": {
     "model_module": "@jupyter-widgets/controls",
     "model_module_version": "1.5.0",
     "model_name": "FloatProgressModel",
     "state": {
      "_dom_classes": [],
      "_model_module": "@jupyter-widgets/controls",
      "_model_module_version": "1.5.0",
      "_model_name": "FloatProgressModel",
      "_view_count": null,
      "_view_module": "@jupyter-widgets/controls",
      "_view_module_version": "1.5.0",
      "_view_name": "ProgressView",
      "bar_style": "success",
      "description": "",
      "description_tooltip": null,
      "layout": "IPY_MODEL_9a4edd96b80c47fdb0a660c132f398b1",
      "max": 533,
      "min": 0,
      "orientation": "horizontal",
      "style": "IPY_MODEL_d853f5c24c534718b21c1a946a88cde5",
      "value": 533
     }
    },
    "77e2fe91c14b4ff79823709c211343bf": {
     "model_module": "@jupyter-widgets/controls",
     "model_module_version": "1.5.0",
     "model_name": "HTMLModel",
     "state": {
      "_dom_classes": [],
      "_model_module": "@jupyter-widgets/controls",
      "_model_module_version": "1.5.0",
      "_model_name": "HTMLModel",
      "_view_count": null,
      "_view_module": "@jupyter-widgets/controls",
      "_view_module_version": "1.5.0",
      "_view_name": "HTMLView",
      "description": "",
      "description_tooltip": null,
      "layout": "IPY_MODEL_7f871f788a7b4570927b0707fa227a64",
      "placeholder": "​",
      "style": "IPY_MODEL_9bbf834678064c989c7fd8ef63999ed0",
      "value": "Downloading: 100%"
     }
    },
    "7f871f788a7b4570927b0707fa227a64": {
     "model_module": "@jupyter-widgets/base",
     "model_module_version": "1.2.0",
     "model_name": "LayoutModel",
     "state": {
      "_model_module": "@jupyter-widgets/base",
      "_model_module_version": "1.2.0",
      "_model_name": "LayoutModel",
      "_view_count": null,
      "_view_module": "@jupyter-widgets/base",
      "_view_module_version": "1.2.0",
      "_view_name": "LayoutView",
      "align_content": null,
      "align_items": null,
      "align_self": null,
      "border": null,
      "bottom": null,
      "display": null,
      "flex": null,
      "flex_flow": null,
      "grid_area": null,
      "grid_auto_columns": null,
      "grid_auto_flow": null,
      "grid_auto_rows": null,
      "grid_column": null,
      "grid_gap": null,
      "grid_row": null,
      "grid_template_areas": null,
      "grid_template_columns": null,
      "grid_template_rows": null,
      "height": null,
      "justify_content": null,
      "justify_items": null,
      "left": null,
      "margin": null,
      "max_height": null,
      "max_width": null,
      "min_height": null,
      "min_width": null,
      "object_fit": null,
      "object_position": null,
      "order": null,
      "overflow": null,
      "overflow_x": null,
      "overflow_y": null,
      "padding": null,
      "right": null,
      "top": null,
      "visibility": null,
      "width": null
     }
    },
    "80fd5b7dca284ef9ac3c002a0eeb07a3": {
     "model_module": "@jupyter-widgets/base",
     "model_module_version": "1.2.0",
     "model_name": "LayoutModel",
     "state": {
      "_model_module": "@jupyter-widgets/base",
      "_model_module_version": "1.2.0",
      "_model_name": "LayoutModel",
      "_view_count": null,
      "_view_module": "@jupyter-widgets/base",
      "_view_module_version": "1.2.0",
      "_view_name": "LayoutView",
      "align_content": null,
      "align_items": null,
      "align_self": null,
      "border": null,
      "bottom": null,
      "display": null,
      "flex": null,
      "flex_flow": null,
      "grid_area": null,
      "grid_auto_columns": null,
      "grid_auto_flow": null,
      "grid_auto_rows": null,
      "grid_column": null,
      "grid_gap": null,
      "grid_row": null,
      "grid_template_areas": null,
      "grid_template_columns": null,
      "grid_template_rows": null,
      "height": null,
      "justify_content": null,
      "justify_items": null,
      "left": null,
      "margin": null,
      "max_height": null,
      "max_width": null,
      "min_height": null,
      "min_width": null,
      "object_fit": null,
      "object_position": null,
      "order": null,
      "overflow": null,
      "overflow_x": null,
      "overflow_y": null,
      "padding": null,
      "right": null,
      "top": null,
      "visibility": null,
      "width": null
     }
    },
    "9a4edd96b80c47fdb0a660c132f398b1": {
     "model_module": "@jupyter-widgets/base",
     "model_module_version": "1.2.0",
     "model_name": "LayoutModel",
     "state": {
      "_model_module": "@jupyter-widgets/base",
      "_model_module_version": "1.2.0",
      "_model_name": "LayoutModel",
      "_view_count": null,
      "_view_module": "@jupyter-widgets/base",
      "_view_module_version": "1.2.0",
      "_view_name": "LayoutView",
      "align_content": null,
      "align_items": null,
      "align_self": null,
      "border": null,
      "bottom": null,
      "display": null,
      "flex": null,
      "flex_flow": null,
      "grid_area": null,
      "grid_auto_columns": null,
      "grid_auto_flow": null,
      "grid_auto_rows": null,
      "grid_column": null,
      "grid_gap": null,
      "grid_row": null,
      "grid_template_areas": null,
      "grid_template_columns": null,
      "grid_template_rows": null,
      "height": null,
      "justify_content": null,
      "justify_items": null,
      "left": null,
      "margin": null,
      "max_height": null,
      "max_width": null,
      "min_height": null,
      "min_width": null,
      "object_fit": null,
      "object_position": null,
      "order": null,
      "overflow": null,
      "overflow_x": null,
      "overflow_y": null,
      "padding": null,
      "right": null,
      "top": null,
      "visibility": null,
      "width": null
     }
    },
    "9bbf834678064c989c7fd8ef63999ed0": {
     "model_module": "@jupyter-widgets/controls",
     "model_module_version": "1.5.0",
     "model_name": "DescriptionStyleModel",
     "state": {
      "_model_module": "@jupyter-widgets/controls",
      "_model_module_version": "1.5.0",
      "_model_name": "DescriptionStyleModel",
      "_view_count": null,
      "_view_module": "@jupyter-widgets/base",
      "_view_module_version": "1.2.0",
      "_view_name": "StyleView",
      "description_width": ""
     }
    },
    "9c5f6359c1724e5d82a0ada2aa96e655": {
     "model_module": "@jupyter-widgets/controls",
     "model_module_version": "1.5.0",
     "model_name": "HTMLModel",
     "state": {
      "_dom_classes": [],
      "_model_module": "@jupyter-widgets/controls",
      "_model_module_version": "1.5.0",
      "_model_name": "HTMLModel",
      "_view_count": null,
      "_view_module": "@jupyter-widgets/controls",
      "_view_module_version": "1.5.0",
      "_view_name": "HTMLView",
      "description": "",
      "description_tooltip": null,
      "layout": "IPY_MODEL_ca3982038fee46c6b9a338c878dd7664",
      "placeholder": "​",
      "style": "IPY_MODEL_28cb124894fd43848539aed70b210556",
      "value": "Downloading: 100%"
     }
    },
    "a72ec757bcf84e2f8133cd0e4b14e582": {
     "model_module": "@jupyter-widgets/base",
     "model_module_version": "1.2.0",
     "model_name": "LayoutModel",
     "state": {
      "_model_module": "@jupyter-widgets/base",
      "_model_module_version": "1.2.0",
      "_model_name": "LayoutModel",
      "_view_count": null,
      "_view_module": "@jupyter-widgets/base",
      "_view_module_version": "1.2.0",
      "_view_name": "LayoutView",
      "align_content": null,
      "align_items": null,
      "align_self": null,
      "border": null,
      "bottom": null,
      "display": null,
      "flex": null,
      "flex_flow": null,
      "grid_area": null,
      "grid_auto_columns": null,
      "grid_auto_flow": null,
      "grid_auto_rows": null,
      "grid_column": null,
      "grid_gap": null,
      "grid_row": null,
      "grid_template_areas": null,
      "grid_template_columns": null,
      "grid_template_rows": null,
      "height": null,
      "justify_content": null,
      "justify_items": null,
      "left": null,
      "margin": null,
      "max_height": null,
      "max_width": null,
      "min_height": null,
      "min_width": null,
      "object_fit": null,
      "object_position": null,
      "order": null,
      "overflow": null,
      "overflow_x": null,
      "overflow_y": null,
      "padding": null,
      "right": null,
      "top": null,
      "visibility": null,
      "width": null
     }
    },
    "b0bf947419d74d49815a5142a1114c1d": {
     "model_module": "@jupyter-widgets/controls",
     "model_module_version": "1.5.0",
     "model_name": "HTMLModel",
     "state": {
      "_dom_classes": [],
      "_model_module": "@jupyter-widgets/controls",
      "_model_module_version": "1.5.0",
      "_model_name": "HTMLModel",
      "_view_count": null,
      "_view_module": "@jupyter-widgets/controls",
      "_view_module_version": "1.5.0",
      "_view_name": "HTMLView",
      "description": "",
      "description_tooltip": null,
      "layout": "IPY_MODEL_61082061282244a3b10a9d17896e9852",
      "placeholder": "​",
      "style": "IPY_MODEL_547a951801604ab5b11ad9c6e143d329",
      "value": " 419M/419M [00:20&lt;00:00, 42.8MB/s]"
     }
    },
    "b87c406858ea4671b26aa12ac7eb63fc": {
     "model_module": "@jupyter-widgets/base",
     "model_module_version": "1.2.0",
     "model_name": "LayoutModel",
     "state": {
      "_model_module": "@jupyter-widgets/base",
      "_model_module_version": "1.2.0",
      "_model_name": "LayoutModel",
      "_view_count": null,
      "_view_module": "@jupyter-widgets/base",
      "_view_module_version": "1.2.0",
      "_view_name": "LayoutView",
      "align_content": null,
      "align_items": null,
      "align_self": null,
      "border": null,
      "bottom": null,
      "display": null,
      "flex": null,
      "flex_flow": null,
      "grid_area": null,
      "grid_auto_columns": null,
      "grid_auto_flow": null,
      "grid_auto_rows": null,
      "grid_column": null,
      "grid_gap": null,
      "grid_row": null,
      "grid_template_areas": null,
      "grid_template_columns": null,
      "grid_template_rows": null,
      "height": null,
      "justify_content": null,
      "justify_items": null,
      "left": null,
      "margin": null,
      "max_height": null,
      "max_width": null,
      "min_height": null,
      "min_width": null,
      "object_fit": null,
      "object_position": null,
      "order": null,
      "overflow": null,
      "overflow_x": null,
      "overflow_y": null,
      "padding": null,
      "right": null,
      "top": null,
      "visibility": null,
      "width": null
     }
    },
    "bc18356321714bda80e90866548425f0": {
     "model_module": "@jupyter-widgets/controls",
     "model_module_version": "1.5.0",
     "model_name": "HTMLModel",
     "state": {
      "_dom_classes": [],
      "_model_module": "@jupyter-widgets/controls",
      "_model_module_version": "1.5.0",
      "_model_name": "HTMLModel",
      "_view_count": null,
      "_view_module": "@jupyter-widgets/controls",
      "_view_module_version": "1.5.0",
      "_view_name": "HTMLView",
      "description": "",
      "description_tooltip": null,
      "layout": "IPY_MODEL_ff576a1300654f6d8560f561381ed43e",
      "placeholder": "​",
      "style": "IPY_MODEL_593db840e1af4f65bac1a9ef45b7a29e",
      "value": " 221k/221k [00:00&lt;00:00, 2.29MB/s]"
     }
    },
    "ca3982038fee46c6b9a338c878dd7664": {
     "model_module": "@jupyter-widgets/base",
     "model_module_version": "1.2.0",
     "model_name": "LayoutModel",
     "state": {
      "_model_module": "@jupyter-widgets/base",
      "_model_module_version": "1.2.0",
      "_model_name": "LayoutModel",
      "_view_count": null,
      "_view_module": "@jupyter-widgets/base",
      "_view_module_version": "1.2.0",
      "_view_name": "LayoutView",
      "align_content": null,
      "align_items": null,
      "align_self": null,
      "border": null,
      "bottom": null,
      "display": null,
      "flex": null,
      "flex_flow": null,
      "grid_area": null,
      "grid_auto_columns": null,
      "grid_auto_flow": null,
      "grid_auto_rows": null,
      "grid_column": null,
      "grid_gap": null,
      "grid_row": null,
      "grid_template_areas": null,
      "grid_template_columns": null,
      "grid_template_rows": null,
      "height": null,
      "justify_content": null,
      "justify_items": null,
      "left": null,
      "margin": null,
      "max_height": null,
      "max_width": null,
      "min_height": null,
      "min_width": null,
      "object_fit": null,
      "object_position": null,
      "order": null,
      "overflow": null,
      "overflow_x": null,
      "overflow_y": null,
      "padding": null,
      "right": null,
      "top": null,
      "visibility": null,
      "width": null
     }
    },
    "cdef4e166d2d4865a3735420628f2021": {
     "model_module": "@jupyter-widgets/controls",
     "model_module_version": "1.5.0",
     "model_name": "DescriptionStyleModel",
     "state": {
      "_model_module": "@jupyter-widgets/controls",
      "_model_module_version": "1.5.0",
      "_model_name": "DescriptionStyleModel",
      "_view_count": null,
      "_view_module": "@jupyter-widgets/base",
      "_view_module_version": "1.2.0",
      "_view_name": "StyleView",
      "description_width": ""
     }
    },
    "d853f5c24c534718b21c1a946a88cde5": {
     "model_module": "@jupyter-widgets/controls",
     "model_module_version": "1.5.0",
     "model_name": "ProgressStyleModel",
     "state": {
      "_model_module": "@jupyter-widgets/controls",
      "_model_module_version": "1.5.0",
      "_model_name": "ProgressStyleModel",
      "_view_count": null,
      "_view_module": "@jupyter-widgets/base",
      "_view_module_version": "1.2.0",
      "_view_name": "StyleView",
      "bar_color": null,
      "description_width": ""
     }
    },
    "dcc48ed7526c4ca4b093dedf3d037d3a": {
     "model_module": "@jupyter-widgets/base",
     "model_module_version": "1.2.0",
     "model_name": "LayoutModel",
     "state": {
      "_model_module": "@jupyter-widgets/base",
      "_model_module_version": "1.2.0",
      "_model_name": "LayoutModel",
      "_view_count": null,
      "_view_module": "@jupyter-widgets/base",
      "_view_module_version": "1.2.0",
      "_view_name": "LayoutView",
      "align_content": null,
      "align_items": null,
      "align_self": null,
      "border": null,
      "bottom": null,
      "display": null,
      "flex": null,
      "flex_flow": null,
      "grid_area": null,
      "grid_auto_columns": null,
      "grid_auto_flow": null,
      "grid_auto_rows": null,
      "grid_column": null,
      "grid_gap": null,
      "grid_row": null,
      "grid_template_areas": null,
      "grid_template_columns": null,
      "grid_template_rows": null,
      "height": null,
      "justify_content": null,
      "justify_items": null,
      "left": null,
      "margin": null,
      "max_height": null,
      "max_width": null,
      "min_height": null,
      "min_width": null,
      "object_fit": null,
      "object_position": null,
      "order": null,
      "overflow": null,
      "overflow_x": null,
      "overflow_y": null,
      "padding": null,
      "right": null,
      "top": null,
      "visibility": null,
      "width": null
     }
    },
    "ddb92fb1a90e41a59b657dd27496d40d": {
     "model_module": "@jupyter-widgets/controls",
     "model_module_version": "1.5.0",
     "model_name": "HTMLModel",
     "state": {
      "_dom_classes": [],
      "_model_module": "@jupyter-widgets/controls",
      "_model_module_version": "1.5.0",
      "_model_name": "HTMLModel",
      "_view_count": null,
      "_view_module": "@jupyter-widgets/controls",
      "_view_module_version": "1.5.0",
      "_view_name": "HTMLView",
      "description": "",
      "description_tooltip": null,
      "layout": "IPY_MODEL_2b67c099f8d44dcb8bce079e33ea0dd6",
      "placeholder": "​",
      "style": "IPY_MODEL_1c3d5f6c49c94aa38e90f8ec88e9fab5",
      "value": "Downloading: 100%"
     }
    },
    "ed6f14e9129a45689b7e8fbd81aed1e7": {
     "model_module": "@jupyter-widgets/controls",
     "model_module_version": "1.5.0",
     "model_name": "HTMLModel",
     "state": {
      "_dom_classes": [],
      "_model_module": "@jupyter-widgets/controls",
      "_model_module_version": "1.5.0",
      "_model_name": "HTMLModel",
      "_view_count": null,
      "_view_module": "@jupyter-widgets/controls",
      "_view_module_version": "1.5.0",
      "_view_name": "HTMLView",
      "description": "",
      "description_tooltip": null,
      "layout": "IPY_MODEL_b87c406858ea4671b26aa12ac7eb63fc",
      "placeholder": "​",
      "style": "IPY_MODEL_cdef4e166d2d4865a3735420628f2021",
      "value": " 533/533 [00:00&lt;00:00, 9.95kB/s]"
     }
    },
    "ff576a1300654f6d8560f561381ed43e": {
     "model_module": "@jupyter-widgets/base",
     "model_module_version": "1.2.0",
     "model_name": "LayoutModel",
     "state": {
      "_model_module": "@jupyter-widgets/base",
      "_model_module_version": "1.2.0",
      "_model_name": "LayoutModel",
      "_view_count": null,
      "_view_module": "@jupyter-widgets/base",
      "_view_module_version": "1.2.0",
      "_view_name": "LayoutView",
      "align_content": null,
      "align_items": null,
      "align_self": null,
      "border": null,
      "bottom": null,
      "display": null,
      "flex": null,
      "flex_flow": null,
      "grid_area": null,
      "grid_auto_columns": null,
      "grid_auto_flow": null,
      "grid_auto_rows": null,
      "grid_column": null,
      "grid_gap": null,
      "grid_row": null,
      "grid_template_areas": null,
      "grid_template_columns": null,
      "grid_template_rows": null,
      "height": null,
      "justify_content": null,
      "justify_items": null,
      "left": null,
      "margin": null,
      "max_height": null,
      "max_width": null,
      "min_height": null,
      "min_width": null,
      "object_fit": null,
      "object_position": null,
      "order": null,
      "overflow": null,
      "overflow_x": null,
      "overflow_y": null,
      "padding": null,
      "right": null,
      "top": null,
      "visibility": null,
      "width": null
     }
    }
   }
  }
 },
 "nbformat": 4,
 "nbformat_minor": 1
}
